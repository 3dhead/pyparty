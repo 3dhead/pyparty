{
 "metadata": {
  "name": ""
 },
 "nbformat": 3,
 "nbformat_minor": 0,
 "worksheets": [
  {
   "cells": [
    {
     "cell_type": "code",
     "collapsed": false,
     "input": [
      "pylab.rcParams['figure.figsize'] = 8, 5.5\n",
      "import numpy as np"
     ],
     "language": "python",
     "metadata": {},
     "outputs": [],
     "prompt_number": 1
    },
    {
     "cell_type": "heading",
     "level": 2,
     "metadata": {},
     "source": [
      "Labeling particles from image"
     ]
    },
    {
     "cell_type": "markdown",
     "metadata": {},
     "source": [
      "This notebook will demonstrate how one can compute the particles directly from an image, and store them as an instance of Particle Manager.  There's a nice tutorial for analysis of connected components *without pyparty* in the latter half of this tutorial:\n",
      "\n",
      "   - http://scipy-lectures.github.io/advanced/image_processing/\n",
      "   \n",
      "You'll notice that they use masking in many cases to isolate regions of the image/array that correspond to labels.  In this guide, I'll do this as well, and then show you how pyparty can be used to completely extract the particles without the need to rely on masking and direct image manipulation."
     ]
    },
    {
     "cell_type": "markdown",
     "metadata": {},
     "source": [
      "Particle labeling is available through skimage.morphology (via scipy.ndimage).  First let's make some test data"
     ]
    },
    {
     "cell_type": "code",
     "collapsed": false,
     "input": [
      "from pyparty.tools.canvas import Canvas\n",
      "\n",
      "c=Canvas()\n",
      "c.available()"
     ],
     "language": "python",
     "metadata": {},
     "outputs": [
      {
       "output_type": "stream",
       "stream": "stderr",
       "text": [
        "12-31 18:17:35 WARNING  traits.has_traits:  DEPRECATED: traits.has_traits.wrapped_class, 'the 'implements' class advisor has been deprecated. Use the 'provides' class decorator.\n"
       ]
      },
      {
       "metadata": {},
       "output_type": "pyout",
       "prompt_number": 2,
       "text": [
        "(('simple:', ['bezier', 'circle', 'ellipse', 'line', 'polygon']),\n",
        " ('circle_multi:', ['dimer', 'square', 'trimer']))"
       ]
      }
     ],
     "prompt_number": 2
    },
    {
     "cell_type": "code",
     "collapsed": false,
     "input": [
      "c.add('dimer', overlap=.3) #Default to image center (256, 256)\n",
      "c.add('dimer', center=(100,100))\n",
      "c.add('circle', center=(100,400))\n",
      "c.add('ellipse', center=(400,100))\n",
      "c.add('ellipse', center=(400, 400), yradius=5, xradius=50)\n",
      "\n",
      "print c.particles\n",
      "c.show();"
     ],
     "language": "python",
     "metadata": {},
     "outputs": [
      {
       "output_type": "stream",
       "stream": "stdout",
       "text": [
        "    NAME        PTYPE  \n",
        "0   dimer_0     dimer  \n",
        "1   dimer_1     dimer  \n",
        "2   circle_0    circle \n",
        "3   ellipse_0   ellipse\n",
        "4   ellipse_1   ellipse\n"
       ]
      },
      {
       "metadata": {},
       "output_type": "display_data",
       "png": "[encoded data removed]",
       "text": [
        "<matplotlib.figure.Figure at 0x4b2af90>"
       ]
      }
     ],
     "prompt_number": 3
    },
    {
     "cell_type": "markdown",
     "metadata": {},
     "source": [
      "Let's try out the label function (image must be binary)"
     ]
    },
    {
     "cell_type": "code",
     "collapsed": false,
     "input": [
      "from skimage.morphology import label\n",
      "from skimage.color import rgb2gray\n",
      "\n",
      "f, (ax1, ax2, ax3) = plt.subplots(nrows=1, ncols=3, figsize=(20,8))\n",
      "\n",
      "grayimage = rgb2gray(c.image)\n",
      "labels = label(grayimage)\n",
      "\n",
      "# Use imshow because images are ndarrays, not canvases\n",
      "ax1.imshow(c.image)\n",
      "ax1.set_title('RGB Data')\n",
      "ax2.imshow(grayimage, plt.cm.gray)\n",
      "ax2.set_title('Grayscale Data')\n",
      "ax3.imshow(labels);\n",
      "ax3.set_title('Particle Labels');"
     ],
     "language": "python",
     "metadata": {},
     "outputs": [
      {
       "metadata": {},
       "output_type": "display_data",
       "png": "[encoded data removed]",
       "text": [
        "<matplotlib.figure.Figure at 0x4c52290>"
       ]
      }
     ],
     "prompt_number": 4
    },
    {
     "cell_type": "markdown",
     "metadata": {},
     "source": [
      "Notice that labels is just an array; it doesn't have any concept the \"particles\".  We can see that there are 7 unique labels (although 0 corresponds to background), but this is all mixed up in an ndarray"
     ]
    },
    {
     "cell_type": "code",
     "collapsed": false,
     "input": [
      "print labels.shape\n",
      "print np.unique(labels)\n",
      "label"
     ],
     "language": "python",
     "metadata": {},
     "outputs": [
      {
       "ename": "SyntaxError",
       "evalue": "unexpected character after line continuation character (<ipython-input-5-ece6a8f53b6a>, line 3)",
       "output_type": "pyerr",
       "traceback": [
        "\u001b[1;36m  File \u001b[1;32m\"<ipython-input-5-ece6a8f53b6a>\"\u001b[1;36m, line \u001b[1;32m3\u001b[0m\n\u001b[1;33m    label\\\\\u001b[0m\n\u001b[1;37m           ^\u001b[0m\n\u001b[1;31mSyntaxError\u001b[0m\u001b[1;31m:\u001b[0m unexpected character after line continuation character\n"
       ]
      }
     ],
     "prompt_number": 5
    },
    {
     "cell_type": "markdown",
     "metadata": {},
     "source": [
      "Since pyparty stores the rr_cc indicies of each particle, we can look at their values in the new labeled image."
     ]
    },
    {
     "cell_type": "code",
     "collapsed": false,
     "input": [
      "print '  '.join(['INDEX', 'NAME', 'CSTART', 'CEND', 'CENTER'])+'\\n'\n",
      "for idx, p in enumerate(c):\n",
      "    print idx, p.name, labels[p.rr_cc][0:3], labels[p.rr_cc][-3:], p.center"
     ],
     "language": "python",
     "metadata": {},
     "outputs": []
    },
    {
     "cell_type": "markdown",
     "metadata": {},
     "source": [
      "Thus, we maintain control over which labels have been assigned to which particle.  For example, we can see that **dimer_1** has two different colors assigned to it, and these particles were labeled first and second, while ellipse 4 was labeled last.  \n",
      "\n",
      "**It would be nice if we could immediately retrieve a set of corresponding labels to the particles** and indeed we can in pyparty!  In fact, *this functionality is a major motivator for building pyparty*"
     ]
    },
    {
     "cell_type": "code",
     "collapsed": false,
     "input": [
      "clab = c.from_labels()\n",
      "print clab.particles\n",
      "\n",
      "clab.show();"
     ],
     "language": "python",
     "metadata": {},
     "outputs": []
    },
    {
     "cell_type": "markdown",
     "metadata": {},
     "source": [
      "Any keyword for *skimage.morphology.label()* is valid for *canvas.from_labels()*, in addition to the *prefix* and *color_by_num* keywords.\n",
      "\n",
      "   - inplace : Overwrite Canvas' current ParticleManager instance\n",
      "   - prefix : Prefix for each particle name (ie prefix_0, prefix_1) defaults to \"label\"\n",
      "   - colorbynum : Shade the particles in ascending order.  Default channel is blue.\n",
      "      - This allows for converstion to colormap **from the original labels**\n"
     ]
    },
    {
     "cell_type": "code",
     "collapsed": false,
     "input": [
      "f, (ax1, ax2) = plt.subplots(nrows=1, ncols=2, figsize=(12,8))\n",
      "\n",
      "clab_custom = c.from_labels(prefix='FOOPREFIX', colorbynum=True)\n",
      "\n",
      "print clab_custom.particles\n",
      "clab_custom.show(axes=ax1)\n",
      "clab_custom.show(plt.cm.jet, axes=ax2);\n",
      "\n",
      "ax1.set_title('Blue to Black Ascending')\n",
      "ax2.set_title('Original coloring recovered');"
     ],
     "language": "python",
     "metadata": {},
     "outputs": []
    },
    {
     "cell_type": "markdown",
     "metadata": {},
     "source": [
      "This allows us to recover the original color scheme used in labeling the raw image.  Thus, even though the particles were labeled from the image (IE NOT USER GENERATED), **we can now control them with the full power of the Particle Manager.**  The only caveate is that one of the dimers is now stored as **two** gen_label (generic label) particles."
     ]
    }
   ],
   "metadata": {}
  }
 ]
}