{
 "metadata": {
  "name": ""
 },
 "nbformat": 3,
 "nbformat_minor": 0,
 "worksheets": [
  {
   "cells": [
    {
     "cell_type": "heading",
     "level": 3,
     "metadata": {},
     "source": [
      "Imports/configuration"
     ]
    },
    {
     "cell_type": "code",
     "collapsed": false,
     "input": [
      "pylab.rcParams['figure.figsize'] = 8, 5.5\n",
      "import numpy as np\n",
      "import warnings\n",
      "warnings.filterwarnings('ignore') #To supress logging"
     ],
     "language": "python",
     "metadata": {},
     "outputs": [],
     "prompt_number": 1
    },
    {
     "cell_type": "heading",
     "level": 1,
     "metadata": {},
     "source": [
      "PyParty Tutorial"
     ]
    },
    {
     "cell_type": "heading",
     "level": 2,
     "metadata": {},
     "source": [
      "The Canvas Class"
     ]
    },
    {
     "cell_type": "markdown",
     "metadata": {},
     "source": [
      "*Canvas* is the primary object that users will deal with use in `pyparty`.  The canvas itself is a composite class, storing both an image (numpy.ndarray : *.image*), optional background, and a custom container for storing and manipulating particles (pyparty.ParticleManager : *.particles*).  The canvas maintains this separation, whereas simple masking tends to merge these entities.\n",
      "\n",
      "To create a canvas, which is an image (ndarray) and a special container (ParticleManager) that stores, tracks and draws particles into the image (via array indexing)."
     ]
    },
    {
     "cell_type": "code",
     "collapsed": false,
     "input": [
      "from pyparty import Canvas\n",
      "c=Canvas()"
     ],
     "language": "python",
     "metadata": {},
     "outputs": [],
     "prompt_number": 2
    },
    {
     "cell_type": "markdown",
     "metadata": {},
     "source": [
      "The canvas tries to acts as an intuitive hybrid object for an image (*c.image*) with particles (*c.particles*), and selectively promotes the APIs of both objects.  "
     ]
    },
    {
     "cell_type": "code",
     "collapsed": false,
     "input": [
      "print type(c.image), type(c.particles)"
     ],
     "language": "python",
     "metadata": {},
     "outputs": [
      {
       "output_type": "stream",
       "stream": "stdout",
       "text": [
        "<type 'numpy.ndarray'> <class 'pyparty.tools.manager.ParticleManager'>\n"
       ]
      }
     ],
     "prompt_number": 3
    },
    {
     "cell_type": "markdown",
     "metadata": {},
     "source": [
      "The reason that *_particles* is a private method is because Canvas promotes its own ParticleManager api through *particles*, which be default, returns a list of particle names (see next section).  Since canvas is a composite class between an ndarray and Particle manager, I decided that  attribute lookup should defer to the image (eg):\n"
     ]
    },
    {
     "cell_type": "code",
     "collapsed": false,
     "input": [
      "print c.image.shape\n",
      "print c.shape"
     ],
     "language": "python",
     "metadata": {},
     "outputs": [
      {
       "output_type": "stream",
       "stream": "stdout",
       "text": [
        "(512, 512, 3)\n",
        "(512, 512, 3)\n"
       ]
      }
     ],
     "prompt_number": 4
    },
    {
     "cell_type": "markdown",
     "metadata": {},
     "source": [
      "While slicing/indexing (see below) should defer to the particles, as the user could easily manipulate the image before and after applying particles."
     ]
    },
    {
     "cell_type": "heading",
     "level": 2,
     "metadata": {},
     "source": [
      "Adding particles"
     ]
    },
    {
     "cell_type": "markdown",
     "metadata": {},
     "source": [
      "Currently we have no praticles.  When there are 0 particles, or more than 50 particles, the printout will be explicit.  Otherwise it is succinct:"
     ]
    },
    {
     "cell_type": "code",
     "collapsed": false,
     "input": [
      "c.particles"
     ],
     "language": "python",
     "metadata": {},
     "outputs": [
      {
       "metadata": {},
       "output_type": "pyout",
       "prompt_number": 5,
       "text": [
        "<< 0 particles / at 0x49dba10 >>"
       ]
      }
     ],
     "prompt_number": 5
    },
    {
     "cell_type": "markdown",
     "metadata": {},
     "source": [
      "A variety of particles can be added directly to the canvas through the *add()* attribute.  At any point, the image with drawn particles can be visualized with *show()*, a wrapper to *matplotlib.plt.imshow()*  First let's see what available particle types there are and then add a circle:"
     ]
    },
    {
     "cell_type": "code",
     "collapsed": false,
     "input": [
      "c.available()"
     ],
     "language": "python",
     "metadata": {},
     "outputs": [
      {
       "metadata": {},
       "output_type": "pyout",
       "prompt_number": 6,
       "text": [
        "(('simple:', ['bezier', 'circle', 'ellipse', 'line']),\n",
        " ('n-circle:', ['dimer', 'tetramer', 'trimer']),\n",
        " ('polygon:', ['polygon', 'rectangle', 'square', 'triangle']))"
       ]
      }
     ],
     "prompt_number": 6
    },
    {
     "cell_type": "markdown",
     "metadata": {},
     "source": [
      "We can also specify a subtype:"
     ]
    },
    {
     "cell_type": "code",
     "collapsed": false,
     "input": [
      "c.available('simple')"
     ],
     "language": "python",
     "metadata": {},
     "outputs": [
      {
       "metadata": {},
       "output_type": "pyout",
       "prompt_number": 7,
       "text": [
        "('bezier', 'circle', 'ellipse', 'line')"
       ]
      }
     ],
     "prompt_number": 7
    },
    {
     "cell_type": "code",
     "collapsed": false,
     "input": [
      "c.add('circle')\n",
      "c.show()\n",
      "c.particles"
     ],
     "language": "python",
     "metadata": {},
     "outputs": [
      {
       "metadata": {},
       "output_type": "pyout",
       "prompt_number": 8,
       "text": [
        "    NAME       PTYPE \n",
        "0   circle_0   circle"
       ]
      },
      {
       "metadata": {},
       "output_type": "display_data",
       "png": "[encoded data removed]",
       "text": [
        "<matplotlib.figure.Figure at 0x49e3f10>"
       ]
      }
     ],
     "prompt_number": 8
    },
    {
     "cell_type": "markdown",
     "metadata": {},
     "source": [
      "Notice that by default *.add()* returned a blue circle of radius 20 pixels at position 256, 256.  This default position is arbitrary, and does not care what background or canvas size we are using (eg, for a 10x10 pixel image, this would not be visible).  The particle was assigned a unique name, **\"circle_0\"**"
     ]
    },
    {
     "cell_type": "markdown",
     "metadata": {},
     "source": [
      "I'll add some simple shapes with some custom names, which we can access through the **names** attribute.  It's sometimes use to have the names handy.  "
     ]
    },
    {
     "cell_type": "code",
     "collapsed": false,
     "input": [
      "c.add('circle', name='top_right', radius=75, center=(400,100), color='y')\n",
      "#c.add('line', color='purple', length=50)\n",
      "#c.add('line', color='purple', length=50, xstart=100, ystart=100, xend=300, yend=100)\n",
      "c.add('square', center=(250, 100), length=50, color='purple', orientation=10)\n",
      "c.add('circle', name='bottom_right', radius=20, center=(400,400), color='red')\n",
      "c.add('ellipse', name='bottom_left', center=(100,400), color='green', orientation=52.0)\n",
      "c.add('ellipse', center=(100,350), color='pink', xradius=10, yradius=50)\n",
      "c.add('circle', name='topleft_corner', radius=100, center=(0,0), color=(20,30,50) )\n",
      "c.add('circle', name='off_image', radius=50, center=(900,200), color='teal')\n",
      "c.add('polygon', name='bowtie', color='orange', orientation=50.0)\n",
      "\n",
      "c.particles"
     ],
     "language": "python",
     "metadata": {},
     "outputs": [
      {
       "metadata": {},
       "output_type": "pyout",
       "prompt_number": 9,
       "text": [
        "    NAME             PTYPE  \n",
        "0   circle_0         circle \n",
        "1   top_right        circle \n",
        "2   square_0         square \n",
        "3   bottom_right     circle \n",
        "4   bottom_left      ellipse\n",
        "5   ellipse_1        ellipse\n",
        "6   topleft_corner   circle \n",
        "7   off_image        circle \n",
        "8   bowtie           polygon"
       ]
      }
     ],
     "prompt_number": 9
    },
    {
     "cell_type": "markdown",
     "metadata": {},
     "source": [
      "If we don't provide a name, they are automatically generated of the form (**shape**_**index**).\n",
      "\n",
      "**Let's store these particles for later use.**"
     ]
    },
    {
     "cell_type": "code",
     "collapsed": false,
     "input": [
      "STORED_PARTICLES = c.particles"
     ],
     "language": "python",
     "metadata": {},
     "outputs": [],
     "prompt_number": 10
    },
    {
     "cell_type": "code",
     "collapsed": false,
     "input": [
      "c.area"
     ],
     "language": "python",
     "metadata": {},
     "outputs": [
      {
       "metadata": {},
       "output_type": "pyout",
       "prompt_number": 11,
       "text": [
        "array([  1245.,  17647.,   1192.,   1245.,    518.,   1541.,  31397.,\n",
        "         7825.,   1780.])"
       ]
      }
     ],
     "prompt_number": 11
    },
    {
     "cell_type": "markdown",
     "metadata": {},
     "source": [
      "Anytime new particles are set (as above, or returned by slicing) a new copy is returned to avoid referring to the same particles in Memory.  This behavior can be customized in the **CONFIG** file."
     ]
    },
    {
     "cell_type": "heading",
     "level": 2,
     "metadata": {},
     "source": [
      "Show()"
     ]
    },
    {
     "cell_type": "markdown",
     "metadata": {},
     "source": [
      "At any point, the image with drawn particles can be visualized with **canvas.show()**, a wrapper to *matplotlib.plt.imshow()*.  I've put a special *title* keyword for convience."
     ]
    },
    {
     "cell_type": "code",
     "collapsed": false,
     "input": [
      "c.show(title='First Plot');"
     ],
     "language": "python",
     "metadata": {},
     "outputs": [
      {
       "metadata": {},
       "output_type": "display_data",
       "png": "[encoded data removed]",
       "text": [
        "<matplotlib.figure.Figure at 0x4a78810>"
       ]
      }
     ],
     "prompt_number": 12
    },
    {
     "cell_type": "code",
     "collapsed": false,
     "input": [
      "from pyparty.utils import splot, showim\n",
      "from skimage.data import moon, lena\n",
      "\n",
      "c.background='white'\n",
      "#c.background=lena()\n",
      "ax = c.show(plt.cm.bone)\n",
      "\n",
      "# Thus, I can call c.show.  If fill, draws particles; if not, draws ax.  The same background can be used!!\n",
      "c.patchshow(ax, alpha=1, edgecolor='r');\n",
      "c.particles['bowtie'].plist[0].as_patch()"
     ],
     "language": "python",
     "metadata": {},
     "outputs": [
      {
       "output_type": "stream",
       "stream": "stdout",
       "text": [
        "HIII (4, 2) (4, 2)\n",
        "HIII (4, 2) (4, 2)\n",
        "HIII (4, 2) (4, 2)\n"
       ]
      },
      {
       "metadata": {},
       "output_type": "pyout",
       "prompt_number": 21,
       "text": [
        "<matplotlib.patches.Polygon at 0x5f00e90>"
       ]
      },
      {
       "metadata": {},
       "output_type": "display_data",
       "png": "[encoded data removed]",
       "text": [
        "<matplotlib.figure.Figure at 0x5f006d0>"
       ]
      }
     ],
     "prompt_number": 21
    },
    {
     "cell_type": "markdown",
     "metadata": {},
     "source": [
      "Notice that the corner circle.  Trying to mask with the indicies of this circle would result in an IndexError; this is one of the many pains that ``pyparty`` is addressing in the background."
     ]
    },
    {
     "cell_type": "heading",
     "level": 2,
     "metadata": {},
     "source": [
      "Multiplots with matplotlib"
     ]
    },
    {
     "cell_type": "markdown",
     "metadata": {},
     "source": [
      "Canvas's *.show()* method wraps *skimage/matplotlib.imshow()*, but also optionally accepts matplotlib **AxesSubPlot** objects via the *axes* keyword.  Additionally, the *cmap* keyword (or passing a color map directly) will gray-convert the image and apply the color map.  In addition, I will import *utils.subplots()* which is a light wrapper to *plt.subplots()* that returns AxesSubPlot instances, either grouped or flat through the *flatten=True* keyword argument."
     ]
    },
    {
     "cell_type": "code",
     "collapsed": false,
     "input": [
      "from pyparty.utils import splot as subplots \n",
      "\n",
      "ax1, ax2, ax3, ax4 = subplots(2, 2, figsize = (10,10)) #flatten = True\n",
      "\n",
      "c.show(ax1, title='ax1')\n",
      "\n",
      "#Add a cyan particle\n",
      "c.add('circle', name='cyanparticle', radius=20, center=(400,100), color=(0,1,1))\n",
      "c.show(ax2, title='ax2 (extra cyan particle)')\n",
      "\n",
      "#Apply a color map instead of pure RGB\n",
      "c.show(plt.cm.jet, axes=ax3, title='ax3 (colormapped)');\n",
      "\n",
      "#Change background color to pink\n",
      "c.background = 'pink'\n",
      "c.show(ax4, title='ax4 (pure background)');"
     ],
     "language": "python",
     "metadata": {},
     "outputs": [
      {
       "metadata": {},
       "output_type": "display_data",
       "png": "[encoded data removed]",
       "text": [
        "<matplotlib.figure.Figure at 0x5edda10>"
       ]
      }
     ],
     "prompt_number": 19
    },
    {
     "cell_type": "heading",
     "level": 3,
     "metadata": {},
     "source": [
      "Background images"
     ]
    },
    {
     "cell_type": "markdown",
     "metadata": {},
     "source": [
      "The default background is a **(512 x 512 X 3)** white RGB array.  This was used implicitly above.  We can actually pass any array (ie image) and the particles will be redrawn over it.  In the next cell, we'll load an image from skimage's pre-packaged data, which is 512 x 512 as well."
     ]
    },
    {
     "cell_type": "code",
     "collapsed": false,
     "input": [
      "from skimage.data import moon, lena\n",
      "MOON = moon() \n",
      "LENA = lena()\n",
      "\n",
      "c.background = MOON\n",
      "c.show();"
     ],
     "language": "python",
     "metadata": {},
     "outputs": []
    },
    {
     "cell_type": "markdown",
     "metadata": {},
     "source": [
      "The moon() background is an example of passing an ndarray directly as a background.  Backgrounds can be generated a number of ways, including:\n",
      "\n",
      "   - From ndarray (ndim = L,W or L,W,3)\n",
      "   - From path to file\n",
      "   - From valid pyparty color argument (see subsequent sections)\n",
      "      - Examples include : 'r', False, 255, (10, 33, 44) etc...\n",
      "   \n",
      "By default, the resolution of the image will be set to the new resolution of the background.  For example:"
     ]
    },
    {
     "cell_type": "code",
     "collapsed": false,
     "input": [
      "BLACK_BACKGROUND = np.zeros( (200,200) )\n",
      "c.background = BLACK_BACKGROUND\n",
      "c.show();"
     ],
     "language": "python",
     "metadata": {},
     "outputs": []
    },
    {
     "cell_type": "markdown",
     "metadata": {},
     "source": [
      "We can used Canvas **set_bg(bg, keepres=False)** method to set the background and resolution seprately.  The *keepres* paramater implements the following behavior:\n",
      "\n",
      "   - keepres=False : Image is set to that of new background\n",
      "   - keepres=True : Image resolution is unchanged\n",
      "   - keepres=(x,y) : Image resolution set to a new value\n",
      "   \n",
      "**set_bg()** returns a new Canvas, unless the *inplace* flag is used.\n",
      "   \n",
      "These are best illustrated by example"
     ]
    },
    {
     "cell_type": "code",
     "collapsed": false,
     "input": [
      "c.reset_background()\n",
      "\n",
      "ax1, ax2, ax3, ax4 = subplots(2,2)\n",
      "c.show(ax1, title='(%s, %s)'%c.rez)\n",
      "\n",
      "# same as setting c.background = BLACK_BACKGROUND\n",
      "c2 = c.set_bg(BLACK_BACKGROUND, keepres=False) \n",
      "c2.show(ax2, title='(%s, %s)'%c2.rez)\n",
      "\n",
      "# black background; keep original res\n",
      "c3 = c.set_bg(BLACK_BACKGROUND, keepres=True) \n",
      "c3.show(ax3, title='(%s, %s)'%c3.rez)\n",
      "\n",
      "# set background to entirely different res\n",
      "c4 = c.set_bg(BLACK_BACKGROUND, keepres=(300,600))\n",
      "c4.show(ax4, title='(%s, %s)'%c4.rez);"
     ],
     "language": "python",
     "metadata": {},
     "outputs": []
    },
    {
     "cell_type": "markdown",
     "metadata": {},
     "source": [
      "The resolution can also be changed directly through the **rez** attribute.  Remember that the background sets the resolution automatically ONLY for array background (or array background from files).  Therefore, the order of this attribute access matters!"
     ]
    },
    {
     "cell_type": "code",
     "collapsed": false,
     "input": [
      "c.reset_background()\n",
      "\n",
      "ax1, ax2 = subplots(1,2)\n",
      "c.rez = (700,700)\n",
      "c.background='orange'\n",
      "c.show(ax1, title=\"Rez set first\")\n",
      "\n",
      "c.reset_background()\n",
      "\n",
      "c.background='orange'\n",
      "c.rez = (700,700)\n",
      "c.show(ax2, title=\"BG reset to 512 at drawtime\");"
     ],
     "language": "python",
     "metadata": {},
     "outputs": []
    },
    {
     "cell_type": "markdown",
     "metadata": {},
     "source": [
      "The behavior is intentional by design.  The **rez** refers to the image resolution, which is kept separate from the inherent background resolution, and I didn't want ``pypary`` altering the user-supplied background in any manner to compensate for resolution changes (for example, image stretching).  \n",
      "\n",
      "It is also possible to set the background to a **cropped** region *within* the current background.  This will automatically set the **rez**.  This is done through **canvas.crop_bg(xi,yi,xf,yf), inplace=False**.  Merely provide the (xi,yi) and (xf,yf), the corners of the cropping rectangle.  "
     ]
    },
    {
     "cell_type": "code",
     "collapsed": false,
     "input": [
      "c.background = LENA\n",
      "\n",
      "ax1, ax2 = subplots(1,2)\n",
      "c.show(ax1, title='Full lena')\n",
      "\n",
      "c2 = c.crop_bg(200,200,400,400)\n",
      "c2.show(ax2, title='Sup girl');"
     ],
     "language": "python",
     "metadata": {},
     "outputs": []
    },
    {
     "cell_type": "markdown",
     "metadata": {},
     "source": [
      "If you want to crop the image (bg + particles) instead of just the background, use the **crop** utility.  Note that coords have to be passed as a container in this case.  As with any image-altering function, only an image is returned, not a Canvas."
     ]
    },
    {
     "cell_type": "code",
     "collapsed": false,
     "input": [
      "from pyparty import crop\n",
      "\n",
      "coords = (200,200,400,400) #Must be in list/tuple\n",
      "imshow(crop( c.image, coords ) );"
     ],
     "language": "python",
     "metadata": {},
     "outputs": []
    },
    {
     "cell_type": "heading",
     "level": 3,
     "metadata": {},
     "source": [
      "Image from disk:"
     ]
    },
    {
     "cell_type": "markdown",
     "metadata": {},
     "source": [
      "Relative or absolute paths are valid background parameters.  If the string does not lead to a valid filepath, the string is interpreted as a color string.  ** NOT all extensions that have IO support in scikit image are supported yet **"
     ]
    },
    {
     "cell_type": "code",
     "collapsed": false,
     "input": [
      "c.background = '../../pyparty/background/gwu.jpg'\n",
      "c.show()\n",
      "print 'newshape = ', c.shape"
     ],
     "language": "python",
     "metadata": {},
     "outputs": []
    },
    {
     "cell_type": "markdown",
     "metadata": {},
     "source": [
      "The particles appear smaller because the resolution of this second image is larger.  It is important to keep in mind that *particle coordinates are absolute in pixels*.  To illustrate this better, let's make a (1024, 1024) background."
     ]
    },
    {
     "cell_type": "code",
     "collapsed": false,
     "input": [
      "new_bg = np.zeros( (500, 1024) )\n",
      "new_bg[:] = 128\n",
      "\n",
      "c.background = new_bg\n",
      "print 'newshape = ', c.shape\n",
      "c.show();"
     ],
     "language": "python",
     "metadata": {},
     "outputs": []
    },
    {
     "cell_type": "markdown",
     "metadata": {},
     "source": [
      "This example illustrates several important features:\n",
      "   \n",
      "   - Particle positions are absolute\n",
      "   - A particle that was orginally off of the scale is now visible.\n",
      "   - Setting the background resolution is easy\n",
      "       - If we had wanted to leave the resolution and change just the color, \n",
      "         we could have simply just did c.background = 128 or c.background = 'teal'"
     ]
    },
    {
     "cell_type": "markdown",
     "metadata": {},
     "source": [
      "**reset_background** reverts to original background/resolution in canvas"
     ]
    },
    {
     "cell_type": "code",
     "collapsed": false,
     "input": [
      "c.reset_background()\n",
      "c.show();"
     ],
     "language": "python",
     "metadata": {},
     "outputs": []
    },
    {
     "cell_type": "heading",
     "level": 2,
     "metadata": {},
     "source": [
      "Image and Particle Manipulation"
     ]
    },
    {
     "cell_type": "markdown",
     "metadata": {},
     "source": [
      "The canvas object publicizes a few **image attributes** for convienence for example:\n",
      "\n",
      "   - shape\n",
      "   - ndim\n",
      "   - dtype\n",
      "   \n",
      "However, when using ndarray functions, pass the *.image* array directly (see below)."
     ]
    },
    {
     "cell_type": "code",
     "collapsed": false,
     "input": [
      "from skimage.filter import gaussian_filter, sobel\n",
      "from skimage.color import rgb2gray\n",
      "\n",
      "ax1, ax2 = subplots(nrows=1, ncols=2, figsize=(10,10))\n",
      "\n",
      "# These are ndimages, not canvases, so use imshow\n",
      "c_filtered = gaussian_filter(c.image, 10, multichannel=True)\n",
      "\n",
      "# Sobel requires gray image; we convert from rgb\n",
      "c_sobel = sobel(rgb2gray(c_filtered)) \n",
      "\n",
      "ax1.imshow(c_filtered)\n",
      "ax2.imshow(c_sobel, plt.cm.gray)\n",
      "ax1.set_title(\"Gaussian blur\")\n",
      "ax2.set_title('Sobel gradient of blur');"
     ],
     "language": "python",
     "metadata": {},
     "outputs": []
    },
    {
     "cell_type": "markdown",
     "metadata": {},
     "source": [
      "**ONE IMPORTANT CAVEAT:** Since guassian_filter returns an array, c_filtered is no longer a *Canvas*.  I may add some support later to return a *Canvas* object with it's image attribute overwritten; however, one should keep in mind that the underlying particles **are unchanged** by the guassian filter; only the final \"drawn\" image has been altered.  It may therefore be misleading to add this feature because one would need to remain aware that these blurry particles are not representative of what is actually stored by the Canvas.  In any case, this is at least a little more convienent than referring to c.image so often!"
     ]
    },
    {
     "cell_type": "code",
     "collapsed": false,
     "input": [
      "type(c), type(c_filtered)"
     ],
     "language": "python",
     "metadata": {},
     "outputs": []
    },
    {
     "cell_type": "heading",
     "level": 3,
     "metadata": {},
     "source": [
      "One more plotting utility: showim()"
     ]
    },
    {
     "cell_type": "markdown",
     "metadata": {},
     "source": [
      "You hopefully noticed that when plotting directly from a canvas, we use **c.show(axes, title)**, which conviently accepts axes and title argumetns.  When dealing directly with an ndimage array (previous cell), I used pyplot.imshow() API, albeit with pyparty.subplots().  To provide consistency between these API's, the **showim(image, axes, title)** pyparty utility has the same call signature as c.show(), but takes an ndimage as input."
     ]
    },
    {
     "cell_type": "code",
     "collapsed": false,
     "input": [
      "from pyparty import showim\n",
      "\n",
      "ax1, ax2 = subplots(1,2)\n",
      "\n",
      "showim(c_filtered, ax1, title=\"Blur again\")\n",
      "showim(c_sobel, plt.cm.gray, ax2, title='Sobel again');"
     ],
     "language": "python",
     "metadata": {},
     "outputs": []
    },
    {
     "cell_type": "heading",
     "level": 3,
     "metadata": {},
     "source": [
      "Descriptors/Properties"
     ]
    },
    {
     "cell_type": "markdown",
     "metadata": {},
     "source": [
      "One nice aspect about pyparty is that it wraps skimage descriptors into the *Particle* classes, allowing for manipulations of particles based on descriptors such as circularity, eccentricity and area.  Let's check out the descriptors:"
     ]
    },
    {
     "cell_type": "code",
     "collapsed": false,
     "input": [
      "from pyparty.descriptors.api import ALL_DESCRIPTORS, CUSTOM_DESCRIPTORS\n",
      "\n",
      "', '.join(sorted(ALL_DESCRIPTORS))"
     ],
     "language": "python",
     "metadata": {},
     "outputs": []
    },
    {
     "cell_type": "markdown",
     "metadata": {},
     "source": [
      "The *evenorodd* is actually a user-defined descriptor which determines if the number of labels in a particle sum to an even or an odd number.   The rest of the descriptors are wrapping skimage.descriptor."
     ]
    },
    {
     "cell_type": "code",
     "collapsed": false,
     "input": [
      "CUSTOM_DESCRIPTORS"
     ],
     "language": "python",
     "metadata": {},
     "outputs": []
    },
    {
     "cell_type": "markdown",
     "metadata": {},
     "source": [
      "You may notice that not all of the skimage descriptors are available yet.  We are in the process of refining some of the descriptors to decouple them from any knowledge of the image.  While a descriptor like *perimeter* is just a single value, intrinsice to the particle and irrespective of the image in which it appears, a descriptor like *weighted_centroid* depends on the background of the image from which it appears. \n",
      "\n",
      "Any **descriptor** can be accessed directly from the canvas, as attribute lookup delegates down to the particle manager.  For example, we can look at the **area** of all of the particles:"
     ]
    },
    {
     "cell_type": "code",
     "collapsed": false,
     "input": [
      "c.area"
     ],
     "language": "python",
     "metadata": {},
     "outputs": []
    },
    {
     "cell_type": "markdown",
     "metadata": {},
     "source": [
      "The **sortby** method returns a Canvas with the particles sorted by a descriptor or other shared attribute (eg radius)"
     ]
    },
    {
     "cell_type": "code",
     "collapsed": false,
     "input": [
      "areasorted = c.sortby('area')\n",
      "\n",
      "print 'No sorting:\\n', c[0:4], '\\n'\n",
      "print 'Area sorting:\\n', areasorted[0:4]"
     ],
     "language": "python",
     "metadata": {},
     "outputs": []
    },
    {
     "cell_type": "markdown",
     "metadata": {},
     "source": [
      "**Boundary Descriptors**"
     ]
    },
    {
     "cell_type": "markdown",
     "metadata": {},
     "source": [
      "The canvas implements three attributes **pin, pedge, pout** to track the particles which are fully inside, outside or on the boundary of the image.  These are simple wrappers to the function *pyparty.utils.coords_in_image()*"
     ]
    },
    {
     "cell_type": "code",
     "collapsed": false,
     "input": [
      "print '(in)\\n', c.pin\n",
      "print '\\n(edge)\\n',c.pedge\n",
      "print '\\n(out)\\n', c.pout"
     ],
     "language": "python",
     "metadata": {},
     "outputs": []
    },
    {
     "cell_type": "heading",
     "level": 3,
     "metadata": {},
     "source": [
      "Mapping / Setting"
     ]
    },
    {
     "cell_type": "markdown",
     "metadata": {},
     "source": [
      "Currently, setting is not allowed (eg c[0:3] = ... ), due to strict typing of particle types; please use .add()/.remove() functions. The **pmap()** functions will apply a function to every particle.  The **pixelmap()** function will apply to an image. All mapping can be done optionally *inplace*.\n",
      "\n",
      "Let's map a function that sets particle color to blue or red based on an area size threshold.  \n",
      "\n",
      "**MAPPING TO PARTICLES: pmap() **"
     ]
    },
    {
     "cell_type": "code",
     "collapsed": false,
     "input": [
      "c.reset_background()\n",
      "\n",
      "def red_or_blue(p):\n",
      "    if p.area > 2000:\n",
      "        p.color = (1,0,0)\n",
      "    else:\n",
      "        p.color = (0,0,1)\n",
      "    return p\n",
      "\n",
      "c_map = c.pmap(red_or_blue)        \n",
      "c_map.show();"
     ],
     "language": "python",
     "metadata": {},
     "outputs": []
    },
    {
     "cell_type": "markdown",
     "metadata": {},
     "source": [
      "**Another example:**\n",
      "\n",
      "*inflection* of center coordinates (cx --> cy / cy --> cx) ``inplace``.  This is simple since cx, cy and center are properties of any *centered* particle type.  Since at the moment, line is not a supported type, I'll drop the line from the image"
     ]
    },
    {
     "cell_type": "code",
     "collapsed": false,
     "input": [
      "c.particles = STORED_PARTICLES\n",
      "\n",
      "def inflection(p):\n",
      "    try:\n",
      "        cx, cy = p.cx, p.cy\n",
      "        p.cx, p.cy = cy, cx\n",
      "    except Exception:\n",
      "        return p\n",
      "    return p\n",
      "\n",
      "c_map.pmap(inflection, inplace=True)\n",
      "c_map.show();"
     ],
     "language": "python",
     "metadata": {},
     "outputs": []
    },
    {
     "cell_type": "markdown",
     "metadata": {},
     "source": [
      "**MAPPING TO IMAGE: pixelmap() **"
     ]
    },
    {
     "cell_type": "code",
     "collapsed": false,
     "input": [
      "def half_pixels(pixel):\n",
      "    \"\"\" Reduce the pixel value by half and square\"\"\"\n",
      "    return (pixel/2.0)**2\n",
      "\n",
      "phalf = c.pixelmap(half_pixels)\n",
      "showim(phalf);"
     ],
     "language": "python",
     "metadata": {},
     "outputs": []
    },
    {
     "cell_type": "markdown",
     "metadata": {},
     "source": [
      "It's important to realize that **pixelmap()** maps a function to EACH PIXEL in the image.  This is not the same as passing an image into a function.  To apply a function on the image per-se, just do\n",
      "\n",
      "   **fcn(c.image)** EG: *median_filter(c.image)*\n",
      "   \n",
      "*pixelmap()* is merely wrappering *np.appy_along_axis()*"
     ]
    },
    {
     "cell_type": "heading",
     "level": 3,
     "metadata": {},
     "source": [
      "Clearing the Canvas"
     ]
    },
    {
     "cell_type": "markdown",
     "metadata": {},
     "source": [
      "The important methods are:\n",
      "\n",
      "   - remove(index or name) : Removes a single particle from canvas #NOT YET IMPLELMENTED\n",
      "   - reset_background() : Removes all particles from the canvas\n",
      "   - clear_particles() : Resets the background image to the default\n",
      "   - clear_canvas() : Removes all particles **and** resets the background\n",
      "   \n",
      "First, let's clear out the cyan particle that was just added.  Since we named it \"cyanparticle\", this it is easy to access"
     ]
    },
    {
     "cell_type": "code",
     "collapsed": false,
     "input": [
      "c.particles"
     ],
     "language": "python",
     "metadata": {},
     "outputs": []
    },
    {
     "cell_type": "code",
     "collapsed": false,
     "input": [
      "c.clear_canvas()\n",
      "print c.particles\n",
      "c.show();"
     ],
     "language": "python",
     "metadata": {},
     "outputs": []
    },
    {
     "cell_type": "heading",
     "level": 3,
     "metadata": {},
     "source": [
      "Indexing/Slicing "
     ]
    },
    {
     "cell_type": "code",
     "collapsed": false,
     "input": [
      "# Get our original particles back\n",
      "c.particles=STORED_PARTICLES\n",
      "c.show();"
     ],
     "language": "python",
     "metadata": {},
     "outputs": []
    },
    {
     "cell_type": "markdown",
     "metadata": {},
     "source": [
      "Slicing and indexing are implemented as a list with a bit of flare.  Basic list slicing by index works..."
     ]
    },
    {
     "cell_type": "code",
     "collapsed": false,
     "input": [
      "print c[0], '\\n'\n",
      "print c[1:3]"
     ],
     "language": "python",
     "metadata": {},
     "outputs": []
    },
    {
     "cell_type": "markdown",
     "metadata": {},
     "source": [
      "We've also added the ability to slice by comma-separated indicies for selective choosing"
     ]
    },
    {
     "cell_type": "code",
     "collapsed": false,
     "input": [
      "c[0,1,2]"
     ],
     "language": "python",
     "metadata": {},
     "outputs": []
    },
    {
     "cell_type": "markdown",
     "metadata": {},
     "source": [
      "You can also **lookup by name** (although you can't slice by name).  Names and integers lookup be mixed."
     ]
    },
    {
     "cell_type": "code",
     "collapsed": false,
     "input": [
      "print c['circle_0'], '\\n'\n",
      "print c[0,'top_right', 1]"
     ],
     "language": "python",
     "metadata": {},
     "outputs": []
    },
    {
     "cell_type": "markdown",
     "metadata": {},
     "source": [
      "**idx()** allow for easy index access (useful when slicing)"
     ]
    },
    {
     "cell_type": "code",
     "collapsed": false,
     "input": [
      "print c.idx('circle_0'),  c.idx('line_0', 'circle_0', 'top_right')"
     ],
     "language": "python",
     "metadata": {},
     "outputs": []
    },
    {
     "cell_type": "markdown",
     "metadata": {},
     "source": [
      "**Logical Indexing** on attributes/descriptors (numpy style) is also supported:"
     ]
    },
    {
     "cell_type": "code",
     "collapsed": false,
     "input": [
      "[c.area > 5000]"
     ],
     "language": "python",
     "metadata": {},
     "outputs": []
    },
    {
     "cell_type": "code",
     "collapsed": false,
     "input": [
      "c[c.area > 5000]"
     ],
     "language": "python",
     "metadata": {},
     "outputs": []
    },
    {
     "cell_type": "markdown",
     "metadata": {},
     "source": [
      "Let's return all non-circular particles, that are not ellipses.  (This should just return the line)"
     ]
    },
    {
     "cell_type": "code",
     "collapsed": false,
     "input": [
      "c[(c.eccentricity > .1) & (c.ptype != 'ellipse')]"
     ],
     "language": "python",
     "metadata": {},
     "outputs": []
    },
    {
     "cell_type": "markdown",
     "metadata": {},
     "source": [
      "**Beware!**\n",
      "\n",
      "``pyparty`` particles are intended to be referenced by name.  Anytime the particle list is modified (eg sorting, slicing) the indicies update, while the name remains fixed.  Therefore, referencing by name is the best practice!"
     ]
    },
    {
     "cell_type": "heading",
     "level": 2,
     "metadata": {},
     "source": [
      "Arithmetic Operations"
     ]
    },
    {
     "cell_type": "markdown",
     "metadata": {},
     "source": [
      "Let's make a two canvases, c1 and c2, for use in addition/subtraction"
     ]
    },
    {
     "cell_type": "code",
     "collapsed": false,
     "input": [
      "c1 = Canvas()\n",
      "c2 = Canvas()\n",
      "\n",
      "for idx, i in enumerate(range(40,50)):\n",
      "    j = (i * idx)\n",
      "    if idx != 0:\n",
      "        c1.add('circle', radius=i, center=(j,j), color=(.1*idx, 0, 0))\n",
      "        c2.add('dimer', radius_1=i/2, center=(512-j, j), \\\n",
      "               overlap=.3, orientation=15*idx, color=(0, 0, 1.0 -.1*idx))\n",
      "        \n",
      "ax1, ax2 = subplots(1, 2)\n",
      "c1.show(ax1, title='c1')\n",
      "c2.show(ax2, title='c2');"
     ],
     "language": "python",
     "metadata": {},
     "outputs": [
      {
       "ename": "ValueError",
       "evalue": "Colormap Figure(640x440) is not recognized",
       "output_type": "pyerr",
       "traceback": [
        "\u001b[1;31m---------------------------------------------------------------------------\u001b[0m\n\u001b[1;31mValueError\u001b[0m                                Traceback (most recent call last)",
        "\u001b[1;32m<ipython-input-15-02177c15f210>\u001b[0m in \u001b[0;36m<module>\u001b[1;34m()\u001b[0m\n\u001b[0;32m      9\u001b[0m \u001b[1;33m\u001b[0m\u001b[0m\n\u001b[0;32m     10\u001b[0m \u001b[0max1\u001b[0m\u001b[1;33m,\u001b[0m \u001b[0max2\u001b[0m \u001b[1;33m=\u001b[0m \u001b[0msubplots\u001b[0m\u001b[1;33m(\u001b[0m\u001b[1;36m1\u001b[0m\u001b[1;33m,\u001b[0m \u001b[1;36m2\u001b[0m\u001b[1;33m)\u001b[0m\u001b[1;33m\u001b[0m\u001b[0m\n\u001b[1;32m---> 11\u001b[1;33m \u001b[0mc1\u001b[0m\u001b[1;33m.\u001b[0m\u001b[0mshow\u001b[0m\u001b[1;33m(\u001b[0m\u001b[0max1\u001b[0m\u001b[1;33m,\u001b[0m \u001b[0mtitle\u001b[0m\u001b[1;33m=\u001b[0m\u001b[1;34m'c1'\u001b[0m\u001b[1;33m)\u001b[0m\u001b[1;33m\u001b[0m\u001b[0m\n\u001b[0m\u001b[0;32m     12\u001b[0m \u001b[0mc2\u001b[0m\u001b[1;33m.\u001b[0m\u001b[0mshow\u001b[0m\u001b[1;33m(\u001b[0m\u001b[0max2\u001b[0m\u001b[1;33m,\u001b[0m \u001b[0mtitle\u001b[0m\u001b[1;33m=\u001b[0m\u001b[1;34m'c2'\u001b[0m\u001b[1;33m)\u001b[0m\u001b[1;33m;\u001b[0m\u001b[1;33m\u001b[0m\u001b[0m\n",
        "\u001b[1;32m/home/hugadams/Enthought/Canopy_64bit/User/lib/python2.7/site-packages/pyparty-0.1.2_1-py2.7.egg/pyparty/tools/canvas.pyc\u001b[0m in \u001b[0;36mshow\u001b[1;34m(self, *args, **kwargs)\u001b[0m\n\u001b[0;32m    222\u001b[0m             \u001b[0maxes\u001b[0m\u001b[1;33m.\u001b[0m\u001b[0mimshow\u001b[0m\u001b[1;33m(\u001b[0m\u001b[0mimage\u001b[0m\u001b[1;33m,\u001b[0m \u001b[1;33m*\u001b[0m\u001b[0margs\u001b[0m\u001b[1;33m,\u001b[0m \u001b[1;33m**\u001b[0m\u001b[0mkwargs\u001b[0m\u001b[1;33m)\u001b[0m\u001b[1;33m\u001b[0m\u001b[0m\n\u001b[0;32m    223\u001b[0m         \u001b[1;32melse\u001b[0m\u001b[1;33m:\u001b[0m      \u001b[1;31m# matplotlib API asymmetry\u001b[0m\u001b[1;33m\u001b[0m\u001b[0m\n\u001b[1;32m--> 224\u001b[1;33m             \u001b[0maxes\u001b[0m \u001b[1;33m=\u001b[0m \u001b[0mplt\u001b[0m\u001b[1;33m.\u001b[0m\u001b[0mimshow\u001b[0m\u001b[1;33m(\u001b[0m\u001b[0mimage\u001b[0m\u001b[1;33m,\u001b[0m \u001b[1;33m*\u001b[0m\u001b[0margs\u001b[0m\u001b[1;33m,\u001b[0m \u001b[1;33m**\u001b[0m\u001b[0mkwargs\u001b[0m\u001b[1;33m)\u001b[0m\u001b[1;33m.\u001b[0m\u001b[0maxes\u001b[0m\u001b[1;33m\u001b[0m\u001b[0m\n\u001b[0m\u001b[0;32m    225\u001b[0m \u001b[1;33m\u001b[0m\u001b[0m\n\u001b[0;32m    226\u001b[0m         \u001b[1;32mif\u001b[0m \u001b[0mtitle\u001b[0m\u001b[1;33m:\u001b[0m\u001b[1;33m\u001b[0m\u001b[0m\n",
        "\u001b[1;32m/home/hugadams/Enthought/Canopy_64bit/User/lib/python2.7/site-packages/matplotlib/pyplot.pyc\u001b[0m in \u001b[0;36mimshow\u001b[1;34m(X, cmap, norm, aspect, interpolation, alpha, vmin, vmax, origin, extent, shape, filternorm, filterrad, imlim, resample, url, hold, **kwargs)\u001b[0m\n\u001b[0;32m   2890\u001b[0m                         \u001b[0mvmax\u001b[0m\u001b[1;33m=\u001b[0m\u001b[0mvmax\u001b[0m\u001b[1;33m,\u001b[0m \u001b[0morigin\u001b[0m\u001b[1;33m=\u001b[0m\u001b[0morigin\u001b[0m\u001b[1;33m,\u001b[0m \u001b[0mextent\u001b[0m\u001b[1;33m=\u001b[0m\u001b[0mextent\u001b[0m\u001b[1;33m,\u001b[0m \u001b[0mshape\u001b[0m\u001b[1;33m=\u001b[0m\u001b[0mshape\u001b[0m\u001b[1;33m,\u001b[0m\u001b[1;33m\u001b[0m\u001b[0m\n\u001b[0;32m   2891\u001b[0m                         \u001b[0mfilternorm\u001b[0m\u001b[1;33m=\u001b[0m\u001b[0mfilternorm\u001b[0m\u001b[1;33m,\u001b[0m \u001b[0mfilterrad\u001b[0m\u001b[1;33m=\u001b[0m\u001b[0mfilterrad\u001b[0m\u001b[1;33m,\u001b[0m\u001b[1;33m\u001b[0m\u001b[0m\n\u001b[1;32m-> 2892\u001b[1;33m                         imlim=imlim, resample=resample, url=url, **kwargs)\n\u001b[0m\u001b[0;32m   2893\u001b[0m         \u001b[0mdraw_if_interactive\u001b[0m\u001b[1;33m(\u001b[0m\u001b[1;33m)\u001b[0m\u001b[1;33m\u001b[0m\u001b[0m\n\u001b[0;32m   2894\u001b[0m     \u001b[1;32mfinally\u001b[0m\u001b[1;33m:\u001b[0m\u001b[1;33m\u001b[0m\u001b[0m\n",
        "\u001b[1;32m/home/hugadams/Enthought/Canopy_64bit/User/lib/python2.7/site-packages/matplotlib/axes.pyc\u001b[0m in \u001b[0;36mimshow\u001b[1;34m(self, X, cmap, norm, aspect, interpolation, alpha, vmin, vmax, origin, extent, shape, filternorm, filterrad, imlim, resample, url, **kwargs)\u001b[0m\n\u001b[0;32m   7295\u001b[0m         im = mimage.AxesImage(self, cmap, norm, interpolation, origin, extent,\n\u001b[0;32m   7296\u001b[0m                        \u001b[0mfilternorm\u001b[0m\u001b[1;33m=\u001b[0m\u001b[0mfilternorm\u001b[0m\u001b[1;33m,\u001b[0m\u001b[1;33m\u001b[0m\u001b[0m\n\u001b[1;32m-> 7297\u001b[1;33m                        filterrad=filterrad, resample=resample, **kwargs)\n\u001b[0m\u001b[0;32m   7298\u001b[0m \u001b[1;33m\u001b[0m\u001b[0m\n\u001b[0;32m   7299\u001b[0m         \u001b[0mim\u001b[0m\u001b[1;33m.\u001b[0m\u001b[0mset_data\u001b[0m\u001b[1;33m(\u001b[0m\u001b[0mX\u001b[0m\u001b[1;33m)\u001b[0m\u001b[1;33m\u001b[0m\u001b[0m\n",
        "\u001b[1;32m/home/hugadams/Enthought/Canopy_64bit/User/lib/python2.7/site-packages/matplotlib/image.pyc\u001b[0m in \u001b[0;36m__init__\u001b[1;34m(self, ax, cmap, norm, interpolation, origin, extent, filternorm, filterrad, resample, **kwargs)\u001b[0m\n\u001b[0;32m    564\u001b[0m                                 \u001b[0mfilterrad\u001b[0m\u001b[1;33m=\u001b[0m\u001b[0mfilterrad\u001b[0m\u001b[1;33m,\u001b[0m\u001b[1;33m\u001b[0m\u001b[0m\n\u001b[0;32m    565\u001b[0m                                 \u001b[0mresample\u001b[0m\u001b[1;33m=\u001b[0m\u001b[0mresample\u001b[0m\u001b[1;33m,\u001b[0m\u001b[1;33m\u001b[0m\u001b[0m\n\u001b[1;32m--> 566\u001b[1;33m                                 \u001b[1;33m**\u001b[0m\u001b[0mkwargs\u001b[0m\u001b[1;33m\u001b[0m\u001b[0m\n\u001b[0m\u001b[0;32m    567\u001b[0m                                 )\n\u001b[0;32m    568\u001b[0m \u001b[1;33m\u001b[0m\u001b[0m\n",
        "\u001b[1;32m/home/hugadams/Enthought/Canopy_64bit/User/lib/python2.7/site-packages/matplotlib/image.pyc\u001b[0m in \u001b[0;36m__init__\u001b[1;34m(self, ax, cmap, norm, interpolation, origin, filternorm, filterrad, resample, **kwargs)\u001b[0m\n\u001b[0;32m     87\u001b[0m         \"\"\"\n\u001b[0;32m     88\u001b[0m         \u001b[0mmartist\u001b[0m\u001b[1;33m.\u001b[0m\u001b[0mArtist\u001b[0m\u001b[1;33m.\u001b[0m\u001b[0m__init__\u001b[0m\u001b[1;33m(\u001b[0m\u001b[0mself\u001b[0m\u001b[1;33m)\u001b[0m\u001b[1;33m\u001b[0m\u001b[0m\n\u001b[1;32m---> 89\u001b[1;33m         \u001b[0mcm\u001b[0m\u001b[1;33m.\u001b[0m\u001b[0mScalarMappable\u001b[0m\u001b[1;33m.\u001b[0m\u001b[0m__init__\u001b[0m\u001b[1;33m(\u001b[0m\u001b[0mself\u001b[0m\u001b[1;33m,\u001b[0m \u001b[0mnorm\u001b[0m\u001b[1;33m,\u001b[0m \u001b[0mcmap\u001b[0m\u001b[1;33m)\u001b[0m\u001b[1;33m\u001b[0m\u001b[0m\n\u001b[0m\u001b[0;32m     90\u001b[0m \u001b[1;33m\u001b[0m\u001b[0m\n\u001b[0;32m     91\u001b[0m         \u001b[1;32mif\u001b[0m \u001b[0morigin\u001b[0m \u001b[1;32mis\u001b[0m \u001b[0mNone\u001b[0m\u001b[1;33m:\u001b[0m\u001b[1;33m\u001b[0m\u001b[0m\n",
        "\u001b[1;32m/home/hugadams/Enthought/Canopy_64bit/User/lib/python2.7/site-packages/matplotlib/cm.pyc\u001b[0m in \u001b[0;36m__init__\u001b[1;34m(self, norm, cmap)\u001b[0m\n\u001b[0;32m    193\u001b[0m         \u001b[0mself\u001b[0m\u001b[1;33m.\u001b[0m\u001b[0mnorm\u001b[0m \u001b[1;33m=\u001b[0m \u001b[0mnorm\u001b[0m\u001b[1;33m\u001b[0m\u001b[0m\n\u001b[0;32m    194\u001b[0m         \u001b[1;31m#: The Colormap instance of this ScalarMappable.\u001b[0m\u001b[1;33m\u001b[0m\u001b[1;33m\u001b[0m\u001b[0m\n\u001b[1;32m--> 195\u001b[1;33m         \u001b[0mself\u001b[0m\u001b[1;33m.\u001b[0m\u001b[0mcmap\u001b[0m \u001b[1;33m=\u001b[0m \u001b[0mget_cmap\u001b[0m\u001b[1;33m(\u001b[0m\u001b[0mcmap\u001b[0m\u001b[1;33m)\u001b[0m\u001b[1;33m\u001b[0m\u001b[0m\n\u001b[0m\u001b[0;32m    196\u001b[0m         \u001b[1;31m#: The last colorbar associated with this ScalarMappable. May be None.\u001b[0m\u001b[1;33m\u001b[0m\u001b[1;33m\u001b[0m\u001b[0m\n\u001b[0;32m    197\u001b[0m         \u001b[0mself\u001b[0m\u001b[1;33m.\u001b[0m\u001b[0mcolorbar\u001b[0m \u001b[1;33m=\u001b[0m \u001b[0mNone\u001b[0m\u001b[1;33m\u001b[0m\u001b[0m\n",
        "\u001b[1;32m/home/hugadams/Enthought/Canopy_64bit/User/lib/python2.7/site-packages/matplotlib/cm.pyc\u001b[0m in \u001b[0;36mget_cmap\u001b[1;34m(name, lut)\u001b[0m\n\u001b[0;32m    159\u001b[0m             \u001b[1;32mreturn\u001b[0m \u001b[0m_generate_cmap\u001b[0m\u001b[1;33m(\u001b[0m\u001b[0mname\u001b[0m\u001b[1;33m,\u001b[0m \u001b[0mlut\u001b[0m\u001b[1;33m)\u001b[0m\u001b[1;33m\u001b[0m\u001b[0m\n\u001b[0;32m    160\u001b[0m \u001b[1;33m\u001b[0m\u001b[0m\n\u001b[1;32m--> 161\u001b[1;33m     \u001b[1;32mraise\u001b[0m \u001b[0mValueError\u001b[0m\u001b[1;33m(\u001b[0m\u001b[1;34m\"Colormap %s is not recognized\"\u001b[0m \u001b[1;33m%\u001b[0m \u001b[0mname\u001b[0m\u001b[1;33m)\u001b[0m\u001b[1;33m\u001b[0m\u001b[0m\n\u001b[0m\u001b[0;32m    162\u001b[0m \u001b[1;33m\u001b[0m\u001b[0m\n\u001b[0;32m    163\u001b[0m \u001b[1;33m\u001b[0m\u001b[0m\n",
        "\u001b[1;31mValueError\u001b[0m: Colormap Figure(640x440) is not recognized"
       ]
      },
      {
       "metadata": {},
       "output_type": "display_data",
       "png": "[encoded data removed]",
       "text": [
        "<matplotlib.figure.Figure at 0x5310690>"
       ]
      }
     ],
     "prompt_number": 15
    },
    {
     "cell_type": "heading",
     "level": 3,
     "metadata": {},
     "source": [
      "Addition"
     ]
    },
    {
     "cell_type": "markdown",
     "metadata": {},
     "source": [
      "**Canvas Addition:**\n",
      "\n",
      "Adding canvases (c1, c2) will result in the following behavior:\n",
      "\n",
      "   - Particles c2 will be plotted AFTER (on top of) c1\n",
      "   - Background of c2 will be used\n",
      "   - Name conflicts in underlying particles will result in Error\n",
      "\n",
      "To change this behavior, use the *tools.concact_canvas()* function"
     ]
    },
    {
     "cell_type": "code",
     "collapsed": false,
     "input": [
      "c2.background = MOON\n",
      "c12 = c1 + c2\n",
      "c21 = c2 + c1\n",
      "\n",
      "ax1, ax2 = subplots(1,2)\n",
      "c12.show(ax1, title='c1 + c2 (c2 background)')\n",
      "c21.show(ax2, title='c2 + c1 (c1 background)');"
     ],
     "language": "python",
     "metadata": {},
     "outputs": []
    },
    {
     "cell_type": "markdown",
     "metadata": {},
     "source": [
      "*tools.concat_canvas()* allows us to add particles in **alternating order**"
     ]
    },
    {
     "cell_type": "code",
     "collapsed": false,
     "input": [
      "from pyparty import concat_canvas\n",
      "\n",
      "c12_alter = concat_canvas(c1, c2, alternate=True)\n",
      "c12_alter.show();"
     ],
     "language": "python",
     "metadata": {},
     "outputs": []
    },
    {
     "cell_type": "markdown",
     "metadata": {},
     "source": [
      "**Particle Manager Addition:**\n",
      "\n",
      "If you don't want the background to be included in the addition., just add the particles directly.  Congruent with *concact_canvas()*, there is also a *concat_particles* method to change the default additive behavior."
     ]
    },
    {
     "cell_type": "code",
     "collapsed": false,
     "input": [
      "c1.particles = c1.particles + c2.particles\n",
      "c1.show(title='Addition of only particles (c2 appears on top)');"
     ],
     "language": "python",
     "metadata": {},
     "outputs": []
    },
    {
     "cell_type": "heading",
     "level": 3,
     "metadata": {},
     "source": [
      "Subtraction"
     ]
    },
    {
     "cell_type": "markdown",
     "metadata": {},
     "source": [
      "**Canvas Subtraction**: Not implemented\n",
      "\n",
      "**Particle Subtraction**: Particles subtraction subtracts by name only.  So two particles that are overlapping but have different names are nto subtracted!!!"
     ]
    },
    {
     "cell_type": "code",
     "collapsed": false,
     "input": [
      "#Subtract first 3 particles from first 5\n",
      "c1.particles[0:5] - c1.particles[0:3]"
     ],
     "language": "python",
     "metadata": {},
     "outputs": []
    },
    {
     "cell_type": "markdown",
     "metadata": {},
     "source": [
      "You can always do subtraction on the image itself which will affect the color of the particles (in this case, subtracting the \"moon background\" affects the particles obviously)"
     ]
    },
    {
     "cell_type": "code",
     "collapsed": false,
     "input": [
      "from skimage.color import gray2rgb\n",
      "from pyparty import any2rgb\n",
      "\n",
      "ax1, ax2, ax3 = subplots(1,3, figsize=(12,8))\n",
      "\n",
      "ax1.imshow( c1.image - gray2rgb(MOON), plt.cm.gray )\n",
      "ax2.imshow( c1.image - any2rgb(MOON), plt.cm.gray )\n",
      "ax3.imshow( moon(), plt.cm.gray );"
     ],
     "language": "python",
     "metadata": {},
     "outputs": []
    },
    {
     "cell_type": "markdown",
     "metadata": {},
     "source": [
      "Note that **any2rgb()** gave different results than **gray2rgb()**.  This actually due to pyplot.imshow(), and is explained further in the enxt section."
     ]
    },
    {
     "cell_type": "heading",
     "level": 2,
     "metadata": {},
     "source": [
      "Color and Data Types"
     ]
    },
    {
     "cell_type": "markdown",
     "metadata": {},
     "source": [
      "The **any2rgb()** utility will convert any image to a valid pyparty normalized 3-channel RGB image.  The above example illustrates that this could be done with **skimage.colors.gray2rgb**, but this does not normalize, nor enforce a strict float datatype.  Because of this variability, imshow() may attempt to normalize it to the max pixel intensity, rather than the 8-bit image max of 255.  While Canvas will internally type-cast its arrays (particles/backgrounds), dealing directly with an image can result in inconsistent plot outputs depending on dtype and values.  Let's illustrate this through Lena.\n",
      "\n",
      "The goal is to divide Lena by 2.  This should result in a darkened image.  Lena has a few pixels at 255, so imshow()'s \"relative\" normalization  won't affect her.  But how would imshow() handle it if her max intensity was 128?  Furthermore, if her dtype was changed from an int to a float?  What about int to uint?"
     ]
    },
    {
     "cell_type": "code",
     "collapsed": false,
     "input": [
      "# Cut LENA in half ; keep int version\n",
      "FLOAT = LENA.astype('float')\n",
      "HALFFLOAT = LENA/2.0\n",
      "HALFINT = HALFFLOAT.astype('int32')\n",
      "HALFUINT = HALFFLOAT.astype('uint8')\n",
      "\n",
      "ax1, ax2, ax3, ax4, ax5, ax6, ax7, ax8, ax9, ax10 = \\\n",
      "   subplots(2,5, figsize=(15,6) )\n",
      "\n",
      "showim(LENA, ax1, title='Int (max=255)')\n",
      "showim(FLOAT, ax2, title='Float (max=255.0)')\n",
      "showim(HALFINT, ax3, title='Int /2 (max=128)')\n",
      "showim(HALFFLOAT, ax4, title='Flat / 2 (max=128.0)')\n",
      "showim(HALFUINT, ax5, title='UInt / 2 (max=128)')\n",
      "\n",
      "showim(any2rgb(LENA), ax6)\n",
      "showim(any2rgb(FLOAT), ax7)\n",
      "showim(any2rgb(HALFINT), ax8)\n",
      "showim(any2rgb(HALFFLOAT), ax9)\n",
      "showim(any2rgb(HALFUINT), ax10);"
     ],
     "language": "python",
     "metadata": {},
     "outputs": []
    },
    {
     "cell_type": "markdown",
     "metadata": {},
     "source": [
      "We see that imshow() handles floats differently from ints, and that it normalizes to the max value in a pixel.  It also acts differently towards ints and unsigned ints.  By strictly enforcing RGB colors, normalized between (0.0-1.0), we avoid imshow's quirks.  The grayimage is always immediately accessible from the canvas (c.grayimage) when you need it, and passing a *colormap into c.show() will yield the gray image!*"
     ]
    },
    {
     "cell_type": "code",
     "collapsed": false,
     "input": [
      "c.clear_particles()\n",
      "c.background=HALFINT\n",
      "ax1, ax2 = subplots(1,2)\n",
      "\n",
      "c.show(ax1, title='half lena rgb')\n",
      "c.show(ax2, plt.cm.Blues, title='half lena gray');"
     ],
     "language": "python",
     "metadata": {},
     "outputs": []
    },
    {
     "cell_type": "heading",
     "level": 3,
     "metadata": {},
     "source": [
      "Masking / Binary"
     ]
    },
    {
     "cell_type": "markdown",
     "metadata": {},
     "source": [
      "The canvas has a special **pbinary** attribute to return a boolean image of JUST the particles.  This returns masked particles *REGARDLESS* of background, and does not alter the underlying particle instance.  Masking in this manner allows us to define useful attributes like **pixelarea**.  This is a nice approach to masking because:\n",
      "\n",
      "   - The area is not sensitive to overlapping particles, nor particles out of the field of view\n",
      "   - The background is not taken into account.\n",
      "   \n",
      "Direct masking of the image could result in issues with background subtraction, and direct summing of particle area may overcount due to the reasons above."
     ]
    },
    {
     "cell_type": "code",
     "collapsed": false,
     "input": [
      "from skimage import img_as_bool\n",
      "ax1, ax2 = subplots(1, 2, figsize=(10,10))\n",
      "\n",
      "ax1.imshow( c1.pbinary, plt.cm.gray )\n",
      "ax1.set_title(\"Masked area is %.1f percent\" % ( c1.pixarea*100 ))\n",
      "\n",
      "showim( np.invert(c1.pbinary), plt.cm.gray, ax2, title=\"Inverted\" );"
     ],
     "language": "python",
     "metadata": {},
     "outputs": []
    },
    {
     "cell_type": "markdown",
     "metadata": {},
     "source": [
      "We can compare this directly to the pixel area that would be occupied by all of the particles (ON AND OFF IMAGE) without accounting for overlap.  To do so, sum the area of all of the particles and divide by the image area.  The image area is stored in **.pixelcount** but is just image.shape[0] * image.shape[1] (length * width)"
     ]
    },
    {
     "cell_type": "code",
     "collapsed": false,
     "input": [
      "p_area = sum(p.area for p in c1.particles) \n",
      "print round( 100. * (p_area / c1.pixcount), 1), 'percent'"
     ],
     "language": "python",
     "metadata": {},
     "outputs": [
      {
       "output_type": "stream",
       "stream": "stdout",
       "text": [
        "21.8 percent\n"
       ]
      }
     ],
     "prompt_number": 16
    },
    {
     "cell_type": "markdown",
     "metadata": {},
     "source": [
      "Thus, about **3-4%** area is hidden due to overlap, or off-screen particles.  In any case, this value is a bit hairy because techincally our dimers are inherently overlapping particles, but this overlap does not count!  I suggest stick with the binarize method."
     ]
    },
    {
     "cell_type": "heading",
     "level": 3,
     "metadata": {},
     "source": [
      "Colors and Types"
     ]
    },
    {
     "cell_type": "markdown",
     "metadata": {},
     "source": [
      "NumPy arays support many data types.  Scikit image supports a subset of these types (http://scikit-image.org/docs/dev/user_guide/data_types.html).  `pyparty` applies even more stringent type requirements.  All image/particle data is stored internally in `pyparty` as a 3-channel RGB normalized (0.0-1.0) floats.  For example (.2, .4, .8).\n",
      "\n",
      "This ensures color compatibility between particle-image operations, as well as the results of imshow(), which implements its own color-typing scheme.\n",
      "\n",
      "I've tried to hide most of this under the public api, which attempts to provide a flexible interface to this strictly-typed backend.  As a first excercise, let's demonstrate all of the available color inputs (which are converted to normalized rgbs internally).  The supported color inputs are:\n",
      "\n",
      "   - common color names (from matplotlib.colors API)\n",
      "      - 'r', 'aqua' , 'green'\n",
      "   - Hex color strings (http://www.w3schools.com/html/html_colors.asp)\n",
      "      - '#000000', '#FF0000'\n",
      "   - 3-channel colors (normalized (0-1) or non-normalized (0-255)\n",
      "      - Normalized: (.1, .4, .5)\n",
      "      - Non-nomralized: (25, 50, 90)\n",
      "      - **IMPORTANT**: All non-normalized tuples will be normalized to 255, NOT to the max channel.\n",
      "   - int, float (0 < value < 255 )\n",
      "      - 50, .5\n",
      "      - **IMPORTANT**: Ints and Floats are normalized to 255 then passed into each channel\n",
      "          - For example: .5 --> (.5, .5, .5)  255 --> (1., 1., 1.)\n",
      "   - bool\n",
      "      - False --> (0., 0., 0.) \n",
      "      - True  --> (1.0, 1.0, 1.0)\n",
      "  \n",
      "By strictly enforcing this datatype, `pyparty` can easily output images to other representations such as gray, HSV and binary. "
     ]
    },
    {
     "cell_type": "markdown",
     "metadata": {},
     "source": [
      "**EXAMPLE: string/hex colors**"
     ]
    },
    {
     "cell_type": "code",
     "collapsed": false,
     "input": [
      "ax1, ax2, ax3, ax4, ax5, ax6 = subplots(2, 3)\n",
      "\n",
      "def colormap(p, color):\n",
      "    p.color = color\n",
      "    return p\n",
      "\n",
      "c.pmap(colormap, 'r').show(ax1, title='colorstring')\n",
      "c.pmap(colormap, '#00FF00').show(ax2, title='hex color') #green\n",
      "c.pmap(colormap, (0, 0, 1)).show(ax3, title='rgb tuple') #blue\n",
      "\n",
      "# These become the same color (.5, .5, .5) ...\n",
      "c.pmap(colormap, .5).show(ax4, title='0.5 --> (.5, .5, .5)')\n",
      "c.pmap(colormap, 128).show(ax5, title='128 --> (.5, .5, .5)') \n",
      "\n",
      "c.pmap(colormap, (255, 255, 1)).show(ax6, title='tuple (normalized)');"
     ],
     "language": "python",
     "metadata": {},
     "outputs": [
      {
       "ename": "ValueError",
       "evalue": "need more than 2 values to unpack",
       "output_type": "pyerr",
       "traceback": [
        "\u001b[1;31m---------------------------------------------------------------------------\u001b[0m\n\u001b[1;31mValueError\u001b[0m                                Traceback (most recent call last)",
        "\u001b[1;32m<ipython-input-17-611c0490d5b3>\u001b[0m in \u001b[0;36m<module>\u001b[1;34m()\u001b[0m\n\u001b[1;32m----> 1\u001b[1;33m \u001b[0max1\u001b[0m\u001b[1;33m,\u001b[0m \u001b[0max2\u001b[0m\u001b[1;33m,\u001b[0m \u001b[0max3\u001b[0m\u001b[1;33m,\u001b[0m \u001b[0max4\u001b[0m\u001b[1;33m,\u001b[0m \u001b[0max5\u001b[0m\u001b[1;33m,\u001b[0m \u001b[0max6\u001b[0m \u001b[1;33m=\u001b[0m \u001b[0msubplots\u001b[0m\u001b[1;33m(\u001b[0m\u001b[1;36m2\u001b[0m\u001b[1;33m,\u001b[0m \u001b[1;36m3\u001b[0m\u001b[1;33m)\u001b[0m\u001b[1;33m\u001b[0m\u001b[0m\n\u001b[0m\u001b[0;32m      2\u001b[0m \u001b[1;33m\u001b[0m\u001b[0m\n\u001b[0;32m      3\u001b[0m \u001b[1;32mdef\u001b[0m \u001b[0mcolormap\u001b[0m\u001b[1;33m(\u001b[0m\u001b[0mp\u001b[0m\u001b[1;33m,\u001b[0m \u001b[0mcolor\u001b[0m\u001b[1;33m)\u001b[0m\u001b[1;33m:\u001b[0m\u001b[1;33m\u001b[0m\u001b[0m\n\u001b[0;32m      4\u001b[0m     \u001b[0mp\u001b[0m\u001b[1;33m.\u001b[0m\u001b[0mcolor\u001b[0m \u001b[1;33m=\u001b[0m \u001b[0mcolor\u001b[0m\u001b[1;33m\u001b[0m\u001b[0m\n\u001b[0;32m      5\u001b[0m     \u001b[1;32mreturn\u001b[0m \u001b[0mp\u001b[0m\u001b[1;33m\u001b[0m\u001b[0m\n",
        "\u001b[1;31mValueError\u001b[0m: need more than 2 values to unpack"
       ]
      },
      {
       "metadata": {},
       "output_type": "display_data",
       "png": "[encoded data removed]",
       "text": [
        "<matplotlib.figure.Figure at 0x532d450>"
       ]
      }
     ],
     "prompt_number": 17
    },
    {
     "cell_type": "markdown",
     "metadata": {},
     "source": [
      "All color validation goes through **utils.to_normrgb()**.  This can be used as a function.  For example, if I want to shade colors by yellow:"
     ]
    },
    {
     "cell_type": "code",
     "collapsed": false,
     "input": [
      "from pyparty.utils import to_normrgb\n",
      "\n",
      "AXES = subplots(1, 3)\n",
      "\n",
      "# Return (r,g,b) corresponding to yellow\n",
      "ry, gy, by = to_normrgb('yellow')\n",
      "\n",
      "for idx, alpha in enumerate( (.3, .7, 1.0) ):\n",
      "    shade = ry*alpha, gy*alpha, by*alpha\n",
      "    c.pmap(colormap, shade).show(AXES[idx], title='Color %s'% str(shade))"
     ],
     "language": "python",
     "metadata": {},
     "outputs": []
    },
    {
     "cell_type": "markdown",
     "metadata": {},
     "source": [
      "While **pbinary** should be used for accurately masking ONLY particles, *Canvas* has several attributes for returning the image or background itself as either **gray** or **binary** representation.  Anytime we've passed a colormap to show(), the **grayimage** was already used.  \n",
      "\n",
      "(Note: scikit *img_as_bool()* splits the image based on midpoint of range in pixel intensity.  This is why **pbinary** should always be used for getting particle masks!)"
     ]
    },
    {
     "cell_type": "code",
     "collapsed": false,
     "input": [
      "ax1, ax2, ax3, ax4, ax5, ax6 = subplots(2, 3, figsize=(10,6))\n",
      "\n",
      "c.particles = STORED_PARTICLES\n",
      "c.background = LENA\n",
      "\n",
      "showim(c.image, ax1)\n",
      "showim(c.grayimage, ax2, plt.cm.gray)\n",
      "showim(c.binaryimage, ax3, plt.cm.gray)\n",
      "\n",
      "showim(c.background, ax4)\n",
      "showim(c.graybackground, ax5, plt.cm.gray)\n",
      "showim(c.binarybackground, ax6, plt.cm.gray);"
     ],
     "language": "python",
     "metadata": {},
     "outputs": []
    },
    {
     "cell_type": "heading",
     "level": 3,
     "metadata": {},
     "source": [
      "CONFIG File"
     ]
    },
    {
     "cell_type": "heading",
     "level": 2,
     "metadata": {},
     "source": [
      "Miscellanous"
     ]
    },
    {
     "cell_type": "heading",
     "level": 3,
     "metadata": {},
     "source": [
      "Coming Soon..."
     ]
    }
   ],
   "metadata": {}
  }
 ]
}