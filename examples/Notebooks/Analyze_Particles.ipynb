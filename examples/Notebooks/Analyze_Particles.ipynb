{
 "metadata": {
  "name": ""
 },
 "nbformat": 3,
 "nbformat_minor": 0,
 "worksheets": [
  {
   "cells": [
    {
     "cell_type": "code",
     "collapsed": false,
     "input": [
      "pylab.rcParams['figure.figsize'] = 8, 5.5\n",
      "import numpy as np"
     ],
     "language": "python",
     "metadata": {},
     "outputs": [],
     "prompt_number": 1
    },
    {
     "cell_type": "heading",
     "level": 2,
     "metadata": {},
     "source": [
      "Labeling particles from image"
     ]
    },
    {
     "cell_type": "markdown",
     "metadata": {},
     "source": [
      "This notebook will demonstrate how one can compute the particles directly from an image, and store them as an instance of Particle Manager.  There's a nice tutorial for analysis of connected components *without pyparty* in the latter half of this tutorial:\n",
      "\n",
      "   - http://scipy-lectures.github.io/advanced/image_processing/\n",
      "   \n",
      "You'll notice that they use masking in many cases to isolate regions of the image/array that correspond to labels.  In this guide, I'll do this as well, and then show you how pyparty can be used to completely extract the particles without the need to rely on masking and direct image manipulation."
     ]
    },
    {
     "cell_type": "markdown",
     "metadata": {},
     "source": [
      "Particle labeling is available through skimage.morphology (via scipy.ndimage).  First let's make some test data"
     ]
    },
    {
     "cell_type": "code",
     "collapsed": false,
     "input": [
      "from pyparty.tools.canvas import Canvas\n",
      "\n",
      "c=Canvas()\n",
      "c.available()"
     ],
     "language": "python",
     "metadata": {},
     "outputs": [
      {
       "metadata": {},
       "output_type": "pyout",
       "prompt_number": 2,
       "text": [
        "(('simple:', ['bezier', 'circle', 'ellipse', 'line']),\n",
        " ('n-circle:', ['dimer', 'tetramer', 'trimer']),\n",
        " ('polygon:', ['polygon', 'rectangle', 'square', 'triangle']))"
       ]
      }
     ],
     "prompt_number": 2
    },
    {
     "cell_type": "code",
     "collapsed": false,
     "input": [
      "c.add('dimer', overlap=.3) #Default to image center (256, 256)\n",
      "c.add('dimer', center=(100,100))\n",
      "c.add('circle', center=(100,400))\n",
      "c.add('ellipse', center=(400,100))\n",
      "c.add('ellipse', center=(400, 400), yradius=5, xradius=50)\n",
      "\n",
      "print c.particles\n",
      "c.show();"
     ],
     "language": "python",
     "metadata": {},
     "outputs": [
      {
       "output_type": "stream",
       "stream": "stdout",
       "text": [
        "    NAME        PTYPE  \n",
        "0   dimer_0     dimer  \n",
        "1   dimer_1     dimer  \n",
        "2   circle_0    circle \n",
        "3   ellipse_0   ellipse\n",
        "4   ellipse_1   ellipse\n"
       ]
      },
      {
       "metadata": {},
       "output_type": "display_data",
       "png": "[encoded data removed]",
       "text": [
        "<matplotlib.figure.Figure at 0x56dd2d0>"
       ]
      }
     ],
     "prompt_number": 3
    },
    {
     "cell_type": "markdown",
     "metadata": {},
     "source": [
      "Let's try out the label function (image must be binary)"
     ]
    },
    {
     "cell_type": "code",
     "collapsed": false,
     "input": [
      "from skimage.morphology import label\n",
      "from pyparty.utils import subplots\n",
      "\n",
      "# We can access grayimage immediately on canvas\n",
      "labels = label(c.grayimage)\n",
      "\n",
      "ax1, ax2, ax3 = subplots(1, 3, figsize=(20,8))\n",
      "\n",
      "# Use .imshow on image arrays ; .show on canvas\n",
      "ax1.imshow(c.image)\n",
      "ax1.set_title('RGB Data')\n",
      "ax2.imshow(c.grayimage, plt.cm.gray)\n",
      "ax2.set_title('Grayscale Data')\n",
      "ax3.imshow(labels, plt.cm.jet);\n",
      "ax3.set_title('Particle Labels');"
     ],
     "language": "python",
     "metadata": {},
     "outputs": [
      {
       "output_type": "stream",
       "stream": "stderr",
       "text": [
        "/home/hugadams/Enthought/Canopy_64bit/User/lib/python2.7/site-packages/scikit_image-0.9.3-py2.7-linux-x86_64.egg/skimage/util/dtype.py:107: UserWarning: Possible precision loss when converting from float64 to uint8\n",
        "  \"%s to %s\" % (dtypeobj_in, dtypeobj))\n"
       ]
      },
      {
       "metadata": {},
       "output_type": "display_data",
       "png": "[encoded data removed]",
       "text": [
        "<matplotlib.figure.Figure at 0x59ad3d0>"
       ]
      }
     ],
     "prompt_number": 4
    },
    {
     "cell_type": "markdown",
     "metadata": {},
     "source": [
      "Notice that labels is just an array; it doesn't have any concept the \"particles\".  We can see that there are 7 unique labels (although 0 corresponds to background), but this is all mixed up in an ndarray"
     ]
    },
    {
     "cell_type": "code",
     "collapsed": false,
     "input": [
      "print labels.shape\n",
      "print np.unique(labels)\n",
      "labels"
     ],
     "language": "python",
     "metadata": {},
     "outputs": [
      {
       "output_type": "stream",
       "stream": "stdout",
       "text": [
        "(512, 512)\n",
        "[0 1 2 3 4 5 6]\n"
       ]
      },
      {
       "metadata": {},
       "output_type": "pyout",
       "prompt_number": 5,
       "text": [
        "array([[0, 0, 0, ..., 0, 0, 0],\n",
        "       [0, 0, 0, ..., 0, 0, 0],\n",
        "       [0, 0, 0, ..., 0, 0, 0],\n",
        "       ..., \n",
        "       [0, 0, 0, ..., 0, 0, 0],\n",
        "       [0, 0, 0, ..., 0, 0, 0],\n",
        "       [0, 0, 0, ..., 0, 0, 0]])"
       ]
      }
     ],
     "prompt_number": 5
    },
    {
     "cell_type": "markdown",
     "metadata": {},
     "source": [
      "Since pyparty stores the **rr_cc** indicies of each particle, we can look at their values in the new labeled image."
     ]
    },
    {
     "cell_type": "code",
     "collapsed": false,
     "input": [
      "print '  '.join(['INDEX', 'NAME', 'CSTART', 'CEND', 'CENTER'])+'\\n'\n",
      "for idx, p in enumerate(c.particles):\n",
      "    print idx, p.name, labels[p.rr_cc][0:3], labels[p.rr_cc][-3:], p.center"
     ],
     "language": "python",
     "metadata": {},
     "outputs": [
      {
       "output_type": "stream",
       "stream": "stdout",
       "text": [
        "INDEX  NAME  CSTART  CEND  CENTER\n",
        "\n",
        "0 dimer_0 [4 4 4] [4 4 4] (256, 256)\n",
        "1 dimer_1 [2 2 2] [1 1 1] (100, 100)\n",
        "2 circle_0 [5 5 5] [5 5 5] (100, 400)\n",
        "3 ellipse_0 [3 3 3] [3 3 3] (400, 100)\n",
        "4 ellipse_1 [6 6 6] [6 6 6] (400, 400)\n"
       ]
      }
     ],
     "prompt_number": 6
    },
    {
     "cell_type": "markdown",
     "metadata": {},
     "source": [
      "Thus, we maintain control over which labels have been assigned to which particle.  For example, we can see that **dimer_1** has two different colors assigned to it, and these particles were labeled first and second, while ellipse 4 was labeled last.  \n",
      "\n",
      "**It would be nice if we could immediately retrieve a set of corresponding labels to the particles** and indeed we can in pyparty!  In fact, *this functionality is a major motivator for building pyparty*"
     ]
    },
    {
     "cell_type": "code",
     "collapsed": false,
     "input": [
      "clab = c.from_labels() #neighbors = 4 default connectivity\n",
      "print clab.particles\n",
      "clab.show();"
     ],
     "language": "python",
     "metadata": {},
     "outputs": [
      {
       "output_type": "stream",
       "stream": "stdout",
       "text": [
        "    NAME      PTYPE   \n",
        "0   label_0   nd_image\n",
        "1   label_1   nd_image\n",
        "2   label_2   nd_image\n",
        "3   label_3   nd_image\n",
        "4   label_4   nd_image\n",
        "5   label_5   nd_image\n"
       ]
      },
      {
       "metadata": {},
       "output_type": "display_data",
       "png": "[encoded data removed]",
       "text": [
        "<matplotlib.figure.Figure at 0x4220bd0>"
       ]
      }
     ],
     "prompt_number": 7
    },
    {
     "cell_type": "markdown",
     "metadata": {},
     "source": [
      "Any keyword for *skimage.morphology.label()* is valid for *canvas.from_labels()*, in addition to the *prefix* and *color_by_num* keywords.\n",
      "\n",
      "   - inplace : Overwrite Canvas' current ParticleManager instance\n",
      "   - prefix : Prefix for each particle name (ie prefix_0, prefix_1) defaults to \"label\"\n",
      "   - colorbynum : Shade the particles in ascending order.  Default shade is yellow.\n",
      "      - This allows for converstion to colormap **from the original labels**\n",
      "\n",
      "We can recover the same color schema of our *original labels* by plotting a colormap (eg 3-channel to 1)."
     ]
    },
    {
     "cell_type": "code",
     "collapsed": false,
     "input": [
      "ax1, ax2, ax3 = subplots(1, 3, figsize=(12,8))\n",
      "\n",
      "clab_custom = c.from_labels(prefix='FOOPREFIX', colorbynum=True, background=0)\n",
      "\n",
      "clab_custom.show(axes=ax1)\n",
      "clab_custom.show(plt.cm.jet, axes=ax2);\n",
      "\n",
      "clab_custom.background=False # becomes 0,0,0\n",
      "clab_custom.show(plt.cm.jet, axes=ax3);\n",
      "\n",
      "ax1.set_title('Black to Yellow Ascending')\n",
      "ax2.set_title('1-Channel coloring')\n",
      "ax3.set_title('Original coloring');"
     ],
     "language": "python",
     "metadata": {},
     "outputs": [
      {
       "metadata": {},
       "output_type": "display_data",
       "png": "[encoded data removed]",
       "text": [
        "<matplotlib.figure.Figure at 0x5702fd0>"
       ]
      }
     ],
     "prompt_number": 8
    },
    {
     "cell_type": "markdown",
     "metadata": {},
     "source": [
      "This allows us to recover the original color scheme used in labeling the raw image.  Thus, even though the particles were labeled from the image (IE NOT USER GENERATED), **we can now control them with the full power of the Particle Manager.**  The only caveat is that one of the dimers is now stored as **two** *nd_label* particles."
     ]
    },
    {
     "cell_type": "heading",
     "level": 3,
     "metadata": {},
     "source": [
      "Manipulating the particles"
     ]
    },
    {
     "cell_type": "markdown",
     "metadata": {},
     "source": [
      "Now I can do anything I want with the particles.  For example, let's sort and shade by eccentricity."
     ]
    },
    {
     "cell_type": "code",
     "collapsed": false,
     "input": [
      "c.sortby('eccentricity', inplace=True)\n",
      "c.particles"
     ],
     "language": "python",
     "metadata": {},
     "outputs": [
      {
       "metadata": {},
       "output_type": "pyout",
       "prompt_number": 11,
       "text": [
        "    NAME        PTYPE  \n",
        "0   circle_0    circle \n",
        "1   dimer_0     dimer  \n",
        "2   ellipse_0   ellipse\n",
        "3   dimer_1     dimer  \n",
        "4   ellipse_1   ellipse"
       ]
      }
     ],
     "prompt_number": 11
    }
   ],
   "metadata": {}
  }
 ]
}