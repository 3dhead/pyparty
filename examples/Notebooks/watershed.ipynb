{
 "metadata": {
  "name": ""
 },
 "nbformat": 3,
 "nbformat_minor": 0,
 "worksheets": [
  {
   "cells": [
    {
     "cell_type": "heading",
     "level": 3,
     "metadata": {},
     "source": [
      "Imports/Configuration"
     ]
    },
    {
     "cell_type": "code",
     "collapsed": false,
     "input": [
      "pylab.rcParams['figure.figsize'] = 8, 5.5\n",
      "import warnings\n",
      "import numpy as np\n",
      "warnings.filterwarnings('ignore') #To supress logging"
     ],
     "language": "python",
     "metadata": {},
     "outputs": [],
     "prompt_number": 42
    },
    {
     "cell_type": "heading",
     "level": 3,
     "metadata": {},
     "source": [
      "Extending Skimage Watershedding Example"
     ]
    },
    {
     "cell_type": "markdown",
     "metadata": {},
     "source": [
      "In this example, I will demonstrate how ``pyparty`` can be integrated into a watershedding example.  The example will demonstrate where ``pyparty`` fits into the image processing workflow.  This example is taken directly from scikit-image:\n",
      "\n",
      "http://scikit-image.org/docs/dev/auto_examples/plot_watershed.html\n",
      "\n",
      "**This example is the property of scikit-image** "
     ]
    },
    {
     "cell_type": "markdown",
     "metadata": {},
     "source": [
      "Before getting starting, let me refactor the original example a bit.  **I want to extract the portion of the code related to imports, watershedding and plotting** so that I can reuse it."
     ]
    },
    {
     "cell_type": "code",
     "collapsed": false,
     "input": [
      "from __future__ import division\n",
      "from scipy import ndimage\n",
      "\n",
      "from skimage.morphology import watershed\n",
      "from skimage.feature import peak_local_max\n",
      "from pyparty import showim, splot\n",
      "\n",
      "def watershed_and_plot(binaryimage):\n",
      "    \"\"\" multiplot of original image, distance map, watershed results \"\"\"\n",
      "    \n",
      "    dist = ndimage.distance_transform_edt(binaryimage)\n",
      "    local_maxi = peak_local_max(dist, indices=False, footprint=np.ones((3, 3)),\n",
      "                            labels=binaryimage)\n",
      "    markers = ndimage.label(local_maxi)[0]\n",
      "    labels = watershed(-dist, markers, mask=binaryimage)\n",
      "    \n",
      "    ax0, ax1, ax2 = splot(1,3, figsize=(8, 2.7))\n",
      "\n",
      "    #Note I'm using pyparty's showim() plotting utility \n",
      "    showim(image,  ax0, 'gray', interpolation='nearest', title='Overlapping objects')\n",
      "    showim(-dist,  ax1, 'jet', interpolation='nearest', title='Distances')\n",
      "    showim(labels, ax2, 'spectral', interpolation='nearest', title='Watershedded objects')\n",
      "    \n",
      "    for ax in (ax0, ax1, ax2):\n",
      "        ax.axis('off')\n",
      "        plt.subplots_adjust(hspace=0.01, wspace=0.01, top=1, \n",
      "                            bottom=0, left=0,right=1)\n",
      "    plt.show();"
     ],
     "language": "python",
     "metadata": {},
     "outputs": [],
     "prompt_number": 43
    },
    {
     "cell_type": "markdown",
     "metadata": {},
     "source": [
      "**Generating particles as masks**"
     ]
    },
    {
     "cell_type": "markdown",
     "metadata": {},
     "source": [
      "First, let's generate two overlapping circles as masks using pure numpy arrays"
     ]
    },
    {
     "cell_type": "code",
     "collapsed": false,
     "input": [
      "# Generate an initial image with two overlapping circles\n",
      "x, y = np.indices((80, 80))\n",
      "x1, y1, x2, y2 = 28, 28, 44, 52\n",
      "r1, r2 = 16, 20\n",
      "mask_circle1 = (x - x1)**2 + (y - y1)**2 < r1**2\n",
      "mask_circle2 = (x - x2)**2 + (y - y2)**2 < r2**2\n",
      "image = np.logical_or(mask_circle1, mask_circle2)\n",
      "\n",
      "watershed_and_plot(image);"
     ],
     "language": "python",
     "metadata": {},
     "outputs": [
      {
       "metadata": {},
       "output_type": "display_data",
       "png": "[encoded data removed]",
       "text": [
        "<matplotlib.figure.Figure at 0x556d8d0>"
       ]
      }
     ],
     "prompt_number": 44
    },
    {
     "cell_type": "markdown",
     "metadata": {},
     "source": [
      "**Regenerate the overlapping circles in pyparty**"
     ]
    },
    {
     "cell_type": "markdown",
     "metadata": {},
     "source": [
      "While we could generate separate circles, ``pyparty`` basic n-circle shapes builtin.  (See canvas.available())  For the task at hand, let's use the \"dimer\" particle and set its orientation and overlap.  **I'm going to estimate that the orientation is 30 degrees and the overlap is 18%; the slight difference in results is due to this estimation**"
     ]
    },
    {
     "cell_type": "code",
     "collapsed": false,
     "input": [
      "from pyparty import Canvas\n",
      "\n",
      "c=Canvas(background='black', rez=(80,80))\n",
      "c.add('dimer', center=(35,35), radius_1=20, radius_2=16, \n",
      "      overlap=.18, phi=-30.0)\n",
      "\n",
      "watershed_and_plot(c.pbinary)"
     ],
     "language": "python",
     "metadata": {},
     "outputs": [
      {
       "metadata": {},
       "output_type": "display_data",
       "png": "[encoded data removed]",
       "text": [
        "<matplotlib.figure.Figure at 0x4672c10>"
       ]
      }
     ],
     "prompt_number": 45
    },
    {
     "cell_type": "markdown",
     "metadata": {},
     "source": [
      "In this case, ``pyparty`` doesn't save a whole lot of work.  This is because we were only generating one particle, and once masked, our problem was done.   "
     ]
    },
    {
     "cell_type": "heading",
     "level": 3,
     "metadata": {},
     "source": [
      "Manipulating the Particle"
     ]
    },
    {
     "cell_type": "markdown",
     "metadata": {},
     "source": [
      "**This is a bit of a digression to show some basic features of pyparty particles.  Skip to the next section to continue the watershedding**"
     ]
    },
    {
     "cell_type": "markdown",
     "metadata": {},
     "source": [
      "Let's look at some of the functionality that ``pyparty`` adds.  First, it is easier to access the particles **independently**, as well as basic descriptors (area, perimieter etc...).  Admittedly, this is not too difficult to do using pure scikit image and a masked array."
     ]
    },
    {
     "cell_type": "code",
     "collapsed": false,
     "input": [
      "print c.perimeter, c.area\n",
      "c.particles"
     ],
     "language": "python",
     "metadata": {},
     "outputs": [
      {
       "output_type": "stream",
       "stream": "stdout",
       "text": [
        "[ 189.43860018] [ 1962.]\n"
       ]
      },
      {
       "metadata": {},
       "output_type": "pyout",
       "prompt_number": 46,
       "text": [
        "    NAME      PTYPE   CENTER     PHI  \n",
        "0   dimer_0   dimer   (35, 35)   -30.0"
       ]
      }
     ],
     "prompt_number": 46
    },
    {
     "cell_type": "markdown",
     "metadata": {},
     "source": [
      "What if we needed to change some aspect of the particle, or the image.  For example, let's change orientation and radius of **one** of the particles, as well as the background and particle color:"
     ]
    },
    {
     "cell_type": "code",
     "collapsed": false,
     "input": [
      "# # Access individual particles via \"plist\"\n",
      " p1 = c.plist[0]\n",
      "\n",
      "# p1.radius1 = 25\n",
      "# #p1.phi = -90\n",
      "# p1.color = 'orange'\n",
      "# c.background= 'purple'\n",
      "\n",
      "#Image center is half of the canvas resolution\n",
      "img_center = c.rx / 2, c.ry / 2\n",
      "\n",
      "ax = c.show('gray', title='Rotated and recolored')\n",
      "ax.scatter(*img_center, color='r')\n",
      "ax.scatter(*p1.center, color='g')\n",
      "ax.scatter(*p1.centroid, color='b');"
     ],
     "language": "python",
     "metadata": {},
     "outputs": [
      {
       "ename": "IndentationError",
       "evalue": "unexpected indent (<ipython-input-47-89877f9e18d0>, line 2)",
       "output_type": "pyerr",
       "traceback": [
        "\u001b[1;36m  File \u001b[1;32m\"<ipython-input-47-89877f9e18d0>\"\u001b[1;36m, line \u001b[1;32m2\u001b[0m\n\u001b[1;33m    p1 = c.plist[0]\u001b[0m\n\u001b[1;37m    ^\u001b[0m\n\u001b[1;31mIndentationError\u001b[0m\u001b[1;31m:\u001b[0m unexpected indent\n"
       ]
      }
     ],
     "prompt_number": 47
    },
    {
     "cell_type": "markdown",
     "metadata": {},
     "source": [
      "The dimer center is not the center of mass; it is the central point of the two radii *in the absence of overlap*.  The center of mass is available as the **centroid** descritpor."
     ]
    },
    {
     "cell_type": "code",
     "collapsed": false,
     "input": [
      "p1.center = tuple(img_center)\n",
      "ax = c.show()\n",
      "ax.scatter(*p1.center, color='red');\n",
      "ax.scatter(*p1.centroid, color='blue');"
     ],
     "language": "python",
     "metadata": {},
     "outputs": []
    },
    {
     "cell_type": "markdown",
     "metadata": {},
     "source": [
      "The dimer center is not the center of mass; it is the central point of the two radii **in the absence of overlap**.  The center of mass is available as a descriptor, however"
     ]
    },
    {
     "cell_type": "markdown",
     "metadata": {},
     "source": [
      "(Allow me to deviate from the task at hand to embrace my inner-dork)"
     ]
    },
    {
     "cell_type": "code",
     "collapsed": false,
     "input": [
      "c.add('circle', name='lefteye', radius=2, center=(35,20), color='black')\n",
      "c.add('circle', name='righteye', radius=2, center=(45,20),color='black')\n",
      "c.add('square', name='hat', center=(40,3), length=5, color='red')  \n",
      "c.add('rectangle', name='hat2', center=(40,7), length=15, width=7, color='black')\n",
      "\n",
      "c.add('line', center=(57, 21), length=30, width=1, phi=70, color='black')\n",
      "c.add('line', center=(22, 21), length=30, width=1, phi=110, color='black')"
     ],
     "language": "python",
     "metadata": {},
     "outputs": []
    },
    {
     "cell_type": "code",
     "collapsed": false,
     "input": [
      "from skimage.data import moon\n",
      "c.set_bg(moon(), keepres=True, inplace=True)\n",
      "c.patchshow(title='greetings from the moon');"
     ],
     "language": "python",
     "metadata": {},
     "outputs": []
    },
    {
     "cell_type": "heading",
     "level": 3,
     "metadata": {},
     "source": [
      "A Tougher Task"
     ]
    },
    {
     "cell_type": "markdown",
     "metadata": {},
     "source": [
      "Ok, enough playing with the peanut.  Let's tackle a tougher problem:\n",
      "\n",
      "   ** How well does watershed converge as a function of overlap for circle dimers?  What about when radii are sampled from a guassian of standard devation, $\\sigma$ ?**"
     ]
    },
    {
     "cell_type": "heading",
     "level": 3,
     "metadata": {},
     "source": [
      "::TO BE COMPLETED::"
     ]
    }
   ],
   "metadata": {}
  }
 ]
}