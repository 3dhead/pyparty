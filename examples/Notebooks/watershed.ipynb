{
 "metadata": {
  "name": ""
 },
 "nbformat": 3,
 "nbformat_minor": 0,
 "worksheets": [
  {
   "cells": [
    {
     "cell_type": "code",
     "collapsed": false,
     "input": [
      "import warnings\n",
      "warnings.filterwarnings('ignore')\n",
      "pylab.rcParams['figure.figsize'] = 8, 5.5"
     ],
     "language": "python",
     "metadata": {},
     "outputs": [],
     "prompt_number": 3
    },
    {
     "cell_type": "heading",
     "level": 3,
     "metadata": {},
     "source": [
      "Skimage Example"
     ]
    },
    {
     "cell_type": "markdown",
     "metadata": {},
     "source": [
      "In this example, I will demonstrate how pyparty's drawing/masking API reduces a lot of the hassle in generating particles.  I'm copy and pasting an example directly from skimage's watershedding:\n",
      "\n",
      "http://scikit-image.org/docs/dev/auto_examples/plot_watershed.html\n",
      "\n",
      "**I claim no ownership of this example** "
     ]
    },
    {
     "cell_type": "markdown",
     "metadata": {},
     "source": [
      "Before getting starting, let me refactor the original example a bit.  I want to yank out the portion of the code related to imports, watershedding and plotting so that I can reuse it, and also separate the relevant portions of the code."
     ]
    },
    {
     "cell_type": "code",
     "collapsed": false,
     "input": [
      "import numpy as np\n",
      "import matplotlib.pyplot as plt\n",
      "from scipy import ndimage\n",
      "\n",
      "from skimage.morphology import watershed\n",
      "from skimage.feature import peak_local_max\n",
      "\n",
      "def watershed_and_plot(binaryimage):\n",
      "    \"\"\" multiplot of original image, distance map, watershed results \"\"\"\n",
      "    \n",
      "    distance = ndimage.distance_transform_edt(binaryimage)\n",
      "    local_maxi = peak_local_max(distance, indices=False, footprint=np.ones((3, 3)),\n",
      "                            labels=binaryimage)\n",
      "    markers = ndimage.label(local_maxi)[0]\n",
      "    labels = watershed(-distance, markers, mask=binaryimage)\n",
      "    fig, (ax0, ax1, ax2) = plt.subplots(ncols=3, figsize=(8, 2.7))\n",
      "\n",
      "    # Note, pyparty could reduce some of this further using its \"c.show() call\"\n",
      "    ax0.imshow(image, cmap=plt.cm.gray, interpolation='nearest')\n",
      "    ax0.set_title('Overlapping objects')\n",
      "    ax1.imshow(-distance, cmap=plt.cm.jet, interpolation='nearest')\n",
      "    ax1.set_title('Distances')\n",
      "    ax2.imshow(labels, cmap=plt.cm.spectral, interpolation='nearest')\n",
      "    ax2.set_title('Separated objects')\n",
      "    for ax in (ax0, ax1, ax2):\n",
      "        ax.axis('off')\n",
      "        plt.subplots_adjust(hspace=0.01, wspace=0.01, top=1, \n",
      "                            bottom=0, left=0,right=1)\n",
      "    plt.show();"
     ],
     "language": "python",
     "metadata": {},
     "outputs": [],
     "prompt_number": 4
    },
    {
     "cell_type": "markdown",
     "metadata": {},
     "source": [
      "**PURE SCIKIT IMAGE**"
     ]
    },
    {
     "cell_type": "code",
     "collapsed": false,
     "input": [
      "# Generate an initial image with two overlapping circles\n",
      "x, y = np.indices((80, 80))\n",
      "x1, y1, x2, y2 = 28, 28, 44, 52\n",
      "r1, r2 = 16, 20\n",
      "mask_circle1 = (x - x1)**2 + (y - y1)**2 < r1**2\n",
      "mask_circle2 = (x - x2)**2 + (y - y2)**2 < r2**2\n",
      "image = np.logical_or(mask_circle1, mask_circle2)\n",
      "\n",
      "watershed_and_plot(image);"
     ],
     "language": "python",
     "metadata": {},
     "outputs": [
      {
       "metadata": {},
       "output_type": "display_data",
       "png": "[encoded data removed]",
       "text": [
        "<matplotlib.figure.Figure at 0x7f29cc090b50>"
       ]
      }
     ],
     "prompt_number": 5
    },
    {
     "cell_type": "markdown",
     "metadata": {},
     "source": [
      "While we could generate two circles, pyparty supports some basic multi-circle shapes be default.  See canvas.available() for all available, for our task, let's use the \"dimer\" particle and set its orientation and overlap.  **I'm going to estimate that the orientation is 30 degrees and the overlap is 18%; the slight difference in results is due to this estimation**"
     ]
    },
    {
     "cell_type": "code",
     "collapsed": false,
     "input": [
      "from pyparty import Canvas\n",
      "\n",
      "c=Canvas(background='black', res=(80,80))\n",
      "c.add('dimer', center=(35,35), radius_1=20, radius_2=16, \n",
      "      overlap=.18, orientation=30.0)\n",
      "\n",
      "watershed_and_plot(c.pbinary)"
     ],
     "language": "python",
     "metadata": {},
     "outputs": [
      {
       "ename": "ValueError",
       "evalue": "could not broadcast input array from shape (512,512,3) into shape (80,80,3)",
       "output_type": "pyerr",
       "traceback": [
        "\u001b[1;31m---------------------------------------------------------------------------\u001b[0m\n\u001b[1;31mValueError\u001b[0m                                Traceback (most recent call last)",
        "\u001b[1;32m<ipython-input-6-000bf6550288>\u001b[0m in \u001b[0;36m<module>\u001b[1;34m()\u001b[0m\n\u001b[0;32m      1\u001b[0m \u001b[1;32mfrom\u001b[0m \u001b[0mpyparty\u001b[0m \u001b[1;32mimport\u001b[0m \u001b[0mCanvas\u001b[0m\u001b[1;33m\u001b[0m\u001b[0m\n\u001b[0;32m      2\u001b[0m \u001b[1;33m\u001b[0m\u001b[0m\n\u001b[1;32m----> 3\u001b[1;33m \u001b[0mc\u001b[0m\u001b[1;33m=\u001b[0m\u001b[0mCanvas\u001b[0m\u001b[1;33m(\u001b[0m\u001b[0mbackground\u001b[0m\u001b[1;33m=\u001b[0m\u001b[1;34m'black'\u001b[0m\u001b[1;33m,\u001b[0m \u001b[0mres\u001b[0m\u001b[1;33m=\u001b[0m\u001b[1;33m(\u001b[0m\u001b[1;36m80\u001b[0m\u001b[1;33m,\u001b[0m\u001b[1;36m80\u001b[0m\u001b[1;33m)\u001b[0m\u001b[1;33m)\u001b[0m\u001b[1;33m\u001b[0m\u001b[0m\n\u001b[0m\u001b[0;32m      4\u001b[0m c.add('dimer', center=(35,35), radius_1=20, radius_2=16, \n\u001b[0;32m      5\u001b[0m       overlap=.18, orientation=30.0)\n",
        "\u001b[1;32m/home/hugadams/Enthought/Canopy_64bit/User/lib/python2.7/site-packages/pyparty-0.1.2_1-py2.7.egg/pyparty/tools/canvas.pyc\u001b[0m in \u001b[0;36m__init__\u001b[1;34m(self, particles, background, res)\u001b[0m\n\u001b[0;32m     72\u001b[0m             \u001b[0mself\u001b[0m\u001b[1;33m.\u001b[0m\u001b[0mreset_background\u001b[0m\u001b[1;33m(\u001b[0m\u001b[1;33m)\u001b[0m \u001b[1;31m#sets default color/resolution\u001b[0m\u001b[1;33m\u001b[0m\u001b[0m\n\u001b[0;32m     73\u001b[0m         \u001b[1;32melse\u001b[0m\u001b[1;33m:\u001b[0m\u001b[1;33m\u001b[0m\u001b[0m\n\u001b[1;32m---> 74\u001b[1;33m             \u001b[0mself\u001b[0m\u001b[1;33m.\u001b[0m\u001b[0mset_bg\u001b[0m\u001b[1;33m(\u001b[0m\u001b[0mbackground\u001b[0m\u001b[1;33m,\u001b[0m \u001b[0mres\u001b[0m\u001b[1;33m,\u001b[0m \u001b[0minplace\u001b[0m\u001b[1;33m=\u001b[0m\u001b[0mTrue\u001b[0m\u001b[1;33m)\u001b[0m\u001b[1;33m\u001b[0m\u001b[0m\n\u001b[0m\u001b[0;32m     75\u001b[0m \u001b[1;33m\u001b[0m\u001b[0m\n\u001b[0;32m     76\u001b[0m     \u001b[1;31m# Public Methods\u001b[0m\u001b[1;33m\u001b[0m\u001b[1;33m\u001b[0m\u001b[0m\n",
        "\u001b[1;32m/home/hugadams/Enthought/Canopy_64bit/User/lib/python2.7/site-packages/pyparty-0.1.2_1-py2.7.egg/pyparty/tools/canvas.pyc\u001b[0m in \u001b[0;36mset_bg\u001b[1;34m(self, bg, keepres, inplace)\u001b[0m\n\u001b[0;32m    348\u001b[0m             \u001b[0mcout\u001b[0m\u001b[1;33m.\u001b[0m\u001b[0m_resolution\u001b[0m \u001b[1;33m=\u001b[0m \u001b[0mcout\u001b[0m\u001b[1;33m.\u001b[0m\u001b[0m_background\u001b[0m\u001b[1;33m.\u001b[0m\u001b[0mshape\u001b[0m\u001b[1;33m[\u001b[0m\u001b[1;36m0\u001b[0m\u001b[1;33m:\u001b[0m\u001b[1;36m2\u001b[0m\u001b[1;33m]\u001b[0m\u001b[1;33m\u001b[0m\u001b[0m\n\u001b[0;32m    349\u001b[0m \u001b[1;33m\u001b[0m\u001b[0m\n\u001b[1;32m--> 350\u001b[1;33m         \u001b[0mcout\u001b[0m\u001b[1;33m.\u001b[0m\u001b[0m_cache_image\u001b[0m\u001b[1;33m(\u001b[0m\u001b[1;33m)\u001b[0m\u001b[1;33m\u001b[0m\u001b[0m\n\u001b[0m\u001b[0;32m    351\u001b[0m \u001b[1;33m\u001b[0m\u001b[0m\n\u001b[0;32m    352\u001b[0m         \u001b[1;32mif\u001b[0m \u001b[1;32mnot\u001b[0m \u001b[0minplace\u001b[0m\u001b[1;33m:\u001b[0m\u001b[1;33m\u001b[0m\u001b[0m\n",
        "\u001b[1;32m/home/hugadams/Enthought/Canopy_64bit/User/lib/python2.7/site-packages/pyparty-0.1.2_1-py2.7.egg/pyparty/tools/canvas.pyc\u001b[0m in \u001b[0;36m_cache_image\u001b[1;34m(self)\u001b[0m\n\u001b[0;32m    173\u001b[0m \u001b[1;33m\u001b[0m\u001b[0m\n\u001b[0;32m    174\u001b[0m         \u001b[1;31m# Notice this procedure\u001b[0m\u001b[1;33m\u001b[0m\u001b[1;33m\u001b[0m\u001b[0m\n\u001b[1;32m--> 175\u001b[1;33m         \u001b[0mimage\u001b[0m \u001b[1;33m=\u001b[0m \u001b[0mnp\u001b[0m\u001b[1;33m.\u001b[0m\u001b[0mcopy\u001b[0m\u001b[1;33m(\u001b[0m\u001b[0mself\u001b[0m\u001b[1;33m.\u001b[0m\u001b[0mbackground\u001b[0m\u001b[1;33m)\u001b[0m\u001b[1;33m\u001b[0m\u001b[0m\n\u001b[0m\u001b[0;32m    176\u001b[0m         \u001b[1;32mfor\u001b[0m \u001b[0mp\u001b[0m \u001b[1;32min\u001b[0m \u001b[0mself\u001b[0m\u001b[1;33m.\u001b[0m\u001b[0m_particles\u001b[0m\u001b[1;33m:\u001b[0m\u001b[1;33m\u001b[0m\u001b[0m\n\u001b[0;32m    177\u001b[0m             \u001b[0mrr_cc\u001b[0m\u001b[1;33m,\u001b[0m \u001b[0mcolor\u001b[0m \u001b[1;33m=\u001b[0m \u001b[0mp\u001b[0m\u001b[1;33m.\u001b[0m\u001b[0mparticle\u001b[0m\u001b[1;33m.\u001b[0m\u001b[0mrr_cc\u001b[0m\u001b[1;33m,\u001b[0m \u001b[0mp\u001b[0m\u001b[1;33m.\u001b[0m\u001b[0mcolor\u001b[0m\u001b[1;33m\u001b[0m\u001b[0m\n",
        "\u001b[1;32m/home/hugadams/Enthought/Canopy_64bit/User/lib/python2.7/site-packages/pyparty-0.1.2_1-py2.7.egg/pyparty/tools/canvas.pyc\u001b[0m in \u001b[0;36m_get_background\u001b[1;34m(self)\u001b[0m\n\u001b[0;32m    383\u001b[0m         \u001b[0mout\u001b[0m \u001b[1;33m=\u001b[0m \u001b[0mnp\u001b[0m\u001b[1;33m.\u001b[0m\u001b[0mempty\u001b[0m\u001b[1;33m(\u001b[0m \u001b[1;33m(\u001b[0m\u001b[0mself\u001b[0m\u001b[1;33m.\u001b[0m\u001b[0mrx\u001b[0m\u001b[1;33m,\u001b[0m \u001b[0mself\u001b[0m\u001b[1;33m.\u001b[0m\u001b[0mry\u001b[0m\u001b[1;33m,\u001b[0m \u001b[1;36m3\u001b[0m\u001b[1;33m)\u001b[0m \u001b[1;33m)\u001b[0m\u001b[1;33m\u001b[0m\u001b[0m\n\u001b[0;32m    384\u001b[0m         \u001b[0mout\u001b[0m\u001b[1;33m[\u001b[0m\u001b[1;33m:\u001b[0m\u001b[1;33m]\u001b[0m \u001b[1;33m=\u001b[0m \u001b[0mBGCOLOR\u001b[0m \u001b[1;31m#.fill only works with scalar\u001b[0m\u001b[1;33m\u001b[0m\u001b[0m\n\u001b[1;32m--> 385\u001b[1;33m         \u001b[0mout\u001b[0m\u001b[1;33m[\u001b[0m\u001b[1;33m:\u001b[0m\u001b[0mbgx\u001b[0m\u001b[1;33m,\u001b[0m \u001b[1;33m:\u001b[0m\u001b[0mbgy\u001b[0m\u001b[1;33m]\u001b[0m \u001b[1;33m=\u001b[0m \u001b[0mself\u001b[0m\u001b[1;33m.\u001b[0m\u001b[0m_background\u001b[0m \u001b[1;31m#copy is not necessary here\u001b[0m\u001b[1;33m\u001b[0m\u001b[0m\n\u001b[0m\u001b[0;32m    386\u001b[0m         \u001b[1;32mreturn\u001b[0m \u001b[0mout\u001b[0m\u001b[1;33m\u001b[0m\u001b[0m\n\u001b[0;32m    387\u001b[0m \u001b[1;33m\u001b[0m\u001b[0m\n",
        "\u001b[1;31mValueError\u001b[0m: could not broadcast input array from shape (512,512,3) into shape (80,80,3)"
       ]
      }
     ],
     "prompt_number": 6
    },
    {
     "cell_type": "markdown",
     "metadata": {},
     "source": [
      "In this case, ``pyparty`` doesn't save a whole lot of work.  This is because we were only generating one particle, and once masked, our problem was done.   "
     ]
    },
    {
     "cell_type": "heading",
     "level": 3,
     "metadata": {},
     "source": [
      "Extending the party"
     ]
    },
    {
     "cell_type": "markdown",
     "metadata": {},
     "source": [
      "Let's look at some of the functionality that ``pyparty`` adds.  First, it is easier to access the particles **independently**, as well as basic descriptors (area, perimieter etc...).  Admittedly, this is not too difficult to do using pure scikit image and a masked array."
     ]
    },
    {
     "cell_type": "code",
     "collapsed": false,
     "input": [
      "c.particles, c.perimeter"
     ],
     "language": "python",
     "metadata": {},
     "outputs": []
    },
    {
     "cell_type": "markdown",
     "metadata": {},
     "source": [
      "What if we needed to change some aspect of the particle, or the image.  For example, let's change orientation and radius of **one** of the particles, as well as the background and particle color:"
     ]
    },
    {
     "cell_type": "code",
     "collapsed": false,
     "input": [
      "# Note that we can access the particles in memory for attribute setting\n",
      "p1 = c.plist[0]\n",
      "\n",
      "p1.radius1 = 25\n",
      "p1.orientation = 90\n",
      "p1.color = 'orange'\n",
      "c.background= 'purple'\n",
      "img_center = image.shape[0] / 2,  image.shape[0] / 2\n",
      "ax = c.show()\n",
      "ax.scatter(*img_center, color='r');\n",
      "ax.scatter(*p1.centroid, color='b');"
     ],
     "language": "python",
     "metadata": {},
     "outputs": []
    },
    {
     "cell_type": "markdown",
     "metadata": {},
     "source": [
      "The dimer center is not the center of mass; it is the central point of the two radii **in the absence of overlap**.  The center of mass is available as a descriptor, however"
     ]
    },
    {
     "cell_type": "code",
     "collapsed": false,
     "input": [
      "p1.center = img_center\n",
      "ax = c.show()\n",
      "ax.scatter(*p1.center, color='red');\n",
      "ax.scatter(*p1.centroid, color='blue');"
     ],
     "language": "python",
     "metadata": {},
     "outputs": []
    },
    {
     "cell_type": "markdown",
     "metadata": {},
     "source": [
      "The dimer center is not the center of mass; it is the central point of the two radii **in the absence of overlap**.  The center of mass is available as a descriptor, however"
     ]
    },
    {
     "cell_type": "markdown",
     "metadata": {},
     "source": [
      "(Allow me to deviate from the task at hand to embrace my inner nerd)"
     ]
    },
    {
     "cell_type": "code",
     "collapsed": false,
     "input": [
      "c.add('circle', name='lefteye', radius=2, center=(35,20), color='black')\n",
      "c.add('circle', name='righteye', radius=2, center=(45,20), color='black')\n",
      "#c.add('square', name='hat', center=(40,10))  NEED FROM CENTER, SIZE LOADER\n",
      "c.add('rectangle', name='hat', xverts=(33, 33, 47, 47), yverts=(11, 3, 3, 11), color='black' )\n",
      "\n",
      "# Not working cuz line is defaulting to OFF IMAGE/isn't build right\n",
      "c.add('line', color='black', width=2, xstart=55, ystart=32, xend=60, yend=55)\n",
      "c.show();"
     ],
     "language": "python",
     "metadata": {},
     "outputs": []
    },
    {
     "cell_type": "code",
     "collapsed": false,
     "input": [],
     "language": "python",
     "metadata": {},
     "outputs": []
    },
    {
     "cell_type": "heading",
     "level": 3,
     "metadata": {},
     "source": [
      "A Tougher Task"
     ]
    },
    {
     "cell_type": "markdown",
     "metadata": {},
     "source": [
      "Ok, enough playing with the peanut.  Let's answer a tougher question:\n",
      "\n",
      "   ** How well does watershed converge as a function of overlap for circle dimers?  What about when radii are sampled from a guassian of standard devation, $\\sigma$ ?**"
     ]
    },
    {
     "cell_type": "code",
     "collapsed": false,
     "input": [],
     "language": "python",
     "metadata": {},
     "outputs": []
    }
   ],
   "metadata": {}
  }
 ]
}