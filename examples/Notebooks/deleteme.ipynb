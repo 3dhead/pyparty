{
 "metadata": {
  "name": "deleteme.ipynb"
 },
 "nbformat": 3,
 "nbformat_minor": 0,
 "worksheets": [
  {
   "cells": [
    {
     "cell_type": "code",
     "collapsed": false,
     "input": [
      "from pyparty.bundled import load_style"
     ],
     "language": "python",
     "metadata": {},
     "outputs": [],
     "prompt_number": 1
    },
    {
     "cell_type": "code",
     "collapsed": false,
     "input": [
      "load_style('purisa')"
     ],
     "language": "python",
     "metadata": {},
     "outputs": [
      {
       "html": [
        "<style>\n",
        "#notebook_panel { /* main background */\n",
        "     background-image: url('http://static2.businessinsider.com/image/51f03f966bb3f73c7700000b/19-fast-food-hacks-that-will-change-the-way-you-order.jpg'); \n",
        "     background-size: 400px 200px; \n",
        "}\n",
        "\n",
        "div #notebook { /* centre the content */\n",
        "    background: #fff;\n",
        "    opacity:0.8;\n",
        "    color: #333;\n",
        "    width: 115ex;\n",
        "    margin: auto;\n",
        "    padding-left: 1em;\n",
        "    padding-right: 1em;\n",
        "    padding-top: 2ex;\n",
        "}\n",
        "\n",
        "\n",
        "\n",
        "div.text_cell {\n",
        "    width: 105ex; /* instead of 100%, */\n",
        "}\n",
        "\n",
        "div.input {\n",
        "    width: 105ex; /* about 80 chars + buffer */\n",
        "}\n",
        "\n",
        "\n",
        "div.text_cell_render {\n",
        "    /*font-family: \"Helvetica Neue\", Arial, Helvetica, Geneva, sans-serif;*/\n",
        "    font-family: \"Purisa\", purisa; /* Make non-code text serif. */\n",
        "    line-height: 145%; /* added for some line spacing of text. */\n",
        "    width: 105ex; /* instead of 'inherit' for shorter lines */\n",
        "}\n",
        "\n",
        "\n",
        "/* Set the size of the headers */\n",
        "div.text_cell_render h1 {\n",
        "   font-family: 'Purisa';\n",
        "   font-size: 18pt;\n",
        "   text-shadow: 4px 4px 4px #aaa;\n",
        "   color: orange;\n",
        "}\n",
        "\n",
        "\n",
        "/* Header color is purple */\n",
        "div.text_cell_render h2 {\n",
        "   font-size: 14pt;\n",
        "   color: purple;\n",
        "}\n",
        "\n",
        "div.prompt { /* remove In/Out prompt */\n",
        "    display: none;\n",
        "}\n",
        "\n",
        "/* Set font of coding cells */\n",
        ".CodeMirror {\n",
        "   font-family: purisa\n",
        "   ; \n",
        "}\n",
        "\n",
        "</style>"
       ],
       "metadata": {},
       "output_type": "display_data",
       "text": [
        "<IPython.core.display.HTML at 0x49f8410>"
       ]
      }
     ],
     "prompt_number": 2
    }
   ],
   "metadata": {}
  }
 ]
}