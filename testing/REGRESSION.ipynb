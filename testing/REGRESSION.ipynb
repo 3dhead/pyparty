{
 "metadata": {
  "name": "",
  "signature": "sha256:4186022cfb10db0146b2f6257bfa80d412bbfb87d8cbc67104f1994ca6f35b65"
 },
 "nbformat": 3,
 "nbformat_minor": 0,
 "worksheets": [
  {
   "cells": [
    {
     "cell_type": "code",
     "collapsed": false,
     "input": [
      "from time import time as TIMENOW\n",
      "import os.path as op\n",
      "\n",
      "run_nb('NBCONFIG.ipynb')"
     ],
     "language": "python",
     "metadata": {},
     "outputs": [
      {
       "output_type": "stream",
       "stream": "stdout",
       "text": [
        "Populating the interactive namespace from numpy and matplotlib\n"
       ]
      },
      {
       "output_type": "stream",
       "stream": "stderr",
       "text": [
        "WARNING: pylab import has clobbered these variables: ['axes', 'rint', 'random', 'title']\n",
        "`%matplotlib` prevents importing * from pylab and numpy\n"
       ]
      },
      {
       "html": [
        "<style>\n",
        "#notebook_panel { /* main background */\n",
        "    background: #333;\n",
        "    color: #f6f6f6;\n",
        "}\n",
        "\n",
        "\n",
        "div #notebook { /* centre the content */\n",
        "    background: #FFFFF0;  /* IVORY */\n",
        "    color: #333;\n",
        "    width: 115ex;\n",
        "    margin: auto;\n",
        "    padding-left: 1em;\n",
        "    padding-right: 1em;\n",
        "    padding-top: 2ex;\n",
        "}\n",
        "\n",
        "\n",
        "div.text_cell_render {  /*Markdown cells */\n",
        "    font-family: Computer Modern Roman;\n",
        "}\n",
        "\n",
        "/* remove big margins around title */\n",
        "div.text_cell_render.border-box-sizing.rendered_html {\n",
        "    margin: 0; /*What is this */\n",
        "    padding: 0.05; /*Spacing between cells*/ \n",
        "    margin-left: 1ex;\n",
        "}\n",
        "div.cell.text_cell.border-box-sizing {\n",
        "    margin: 0;\n",
        "    padding: 0.05; \n",
        "}\n",
        "\n",
        ".rendered_html h1 {\n",
        "    margin: 0;\n",
        "    padding: 0;\n",
        "}\n",
        ".rendered_html h2 {\n",
        "    margin: 0;\n",
        "    padding: 0;\n",
        "}\n",
        ".rendered_html h3 {\n",
        "    margin: 0;\n",
        "    padding: 0;\n",
        "}\n",
        "\n",
        "/* Width of all cells */\n",
        "div.cell { /* set cell width to about 80 chars */\n",
        "    width: 55em;\n",
        "\n",
        "}\n",
        "\n",
        "/* Set font of coding cells (DONT KNOW WHY BUT NEED THIS) */\n",
        ".CodeMirror {\n",
        "    /* Preferred font is bold sawasdee, but here are backups */\n",
        "    font-family: \"Sawasdee\", \"Lucida Sans Typewriter\",\"Lucida Typewriter\", \n",
        "         \"Lucida Typewriter\", \"Courier New\", Courier, monospace;;\n",
        "    font-size: normal;\n",
        "    font-weight: 700; \n",
        "}\n",
        "\n",
        "div.cell.code_cell { /* Total code cell, in and out */\n",
        "    background: #FFFFF0;\n",
        "    border: none;\n",
        "    padding-top: 1ex;\n",
        "}\n",
        "\n",
        "div.input_area { /* box around box with code ??? */\n",
        "    border: none;\n",
        "    background: #f5f5f5;\n",
        "    border: 1px solid #fff;\n",
        "    border-radius: 10px;\n",
        "    padding-top: 0.5ex;\n",
        "    padding-bottom: 0.5ex;\n",
        "    padding-left: 0.5em;\n",
        "}\n",
        "\n",
        "div.input { /* box with code */\n",
        "}\n",
        "\n",
        "\n",
        "div.prompt { /* remove In/Out prompt */\n",
        "    display: none;\n",
        "}\n",
        "\n",
        "div.output_subarea { /* remove margin in front of output */\n",
        "    border: none;\n",
        "}\n",
        "\n",
        "div.cell.border-box-sizing.code_cell.running { \n",
        "    /* draw red dotted border around running cells */\n",
        "    border: 3px dotted #f33;\n",
        "}\n",
        "\n",
        "/* header colours and fonts */\n",
        "h1 { color: #444; }\n",
        "h2 { color: #444; font-style: oblique}\n",
        "h3 { color: #0000A0; font-weight: normal}\n",
        "h4 { color: #444; font-weight: oblique; font-size: large}\n",
        "\n",
        "\n",
        "</style>"
       ],
       "metadata": {},
       "output_type": "display_data",
       "text": [
        "<IPython.core.display.HTML object>"
       ]
      }
     ],
     "prompt_number": 11
    },
    {
     "cell_type": "heading",
     "level": 1,
     "metadata": {},
     "source": [
      "PyParty Regression Test Suite"
     ]
    },
    {
     "cell_type": "markdown",
     "metadata": {},
     "source": [
      "This is a quick run and capture test notebook.  It runs other notebooks, including tutorials while suppressing output.  Any errors will hault the running, forming a quasi-regression test suite.  Standard unit testing is a work in progress.\n",
      "\n",
      "**Required IPython 3.0.0 dev or higher to properly use %capture magic** due to a recent [issue fix.](https://github.com/ipython/ipython/issues/5685)"
     ]
    },
    {
     "cell_type": "code",
     "collapsed": false,
     "input": [
      "NBDIR = '../examples/Notebooks/'\n",
      "\n",
      "def run_nb(nb):\n",
      "    \"\"\" Run a notebook in NBDIR; adds .ipynb extension if none found. \"\"\"\n",
      "    if not op.splitext(nb)[1]:\n",
      "        nb = '%s.ipynb' % nb\n",
      "    nbpath = op.join(NBDIR, nb)\n",
      "    %run $nbpath         "
     ],
     "language": "python",
     "metadata": {},
     "outputs": [],
     "prompt_number": 2
    },
    {
     "cell_type": "heading",
     "level": 3,
     "metadata": {},
     "source": [
      "[Basic Tutorial](http://nbviewer.ipython.org/github/hugadams/pyparty/blob/master/examples/Notebooks/basictests.ipynb?create=1)"
     ]
    },
    {
     "cell_type": "code",
     "collapsed": false,
     "input": [
      "%%capture CAPTURED\n",
      "ts = TIMENOW()\n",
      "NB = 'basictests.ipynb'\n",
      "run_nb(NB)\n",
      "tdiff = TIMENOW() - ts\n",
      "'COMPLETED %s: %.2f s' % (NB, tdiff)"
     ],
     "language": "python",
     "metadata": {},
     "outputs": [
      {
       "output_type": "stream",
       "stream": "stderr",
       "text": [
        "ERROR: File `u'NBCONFIG.ipynb.py'` not found.\n",
        "05-12 18:50:08 WARNING  pyparty.utils:  background color has been converted (1-channel to 3-channel RGB)\n"
       ]
      },
      {
       "output_type": "stream",
       "stream": "stderr",
       "text": [
        "05-12 18:50:10 WARNING  pyparty.utils:  background color has been converted (1-channel to 3-channel RGB)\n"
       ]
      },
      {
       "output_type": "stream",
       "stream": "stderr",
       "text": [
        "05-12 18:50:12 WARNING  pyparty.utils:  background color has been converted (1-channel to 3-channel RGB)\n"
       ]
      },
      {
       "output_type": "stream",
       "stream": "stderr",
       "text": [
        "05-12 18:50:12 WARNING  pyparty.utils:  background color has been converted (1-channel to 3-channel RGB)\n"
       ]
      },
      {
       "output_type": "stream",
       "stream": "stderr",
       "text": [
        "05-12 18:50:12 WARNING  pyparty.utils:  background color has been converted (1-channel to 3-channel RGB)\n"
       ]
      },
      {
       "output_type": "stream",
       "stream": "stderr",
       "text": [
        "05-12 18:50:30 WARNING  pyparty.utils:  background color has been converted (1-channel to 3-channel RGB)\n"
       ]
      },
      {
       "output_type": "stream",
       "stream": "stderr",
       "text": [
        "05-12 18:51:09 WARNING  pyparty.utils:  background color has been converted (1-channel to 3-channel RGB)\n"
       ]
      },
      {
       "output_type": "stream",
       "stream": "stderr",
       "text": [
        "05-12 18:51:16 WARNING  pyparty.utils:   color has been converted (1-channel to 3-channel RGB)\n"
       ]
      },
      {
       "metadata": {},
       "output_type": "pyout",
       "prompt_number": 35,
       "text": [
        "u'Finished basictests.ipynb:  11 us'"
       ]
      }
     ],
     "prompt_number": 35
    },
    {
     "cell_type": "heading",
     "level": 3,
     "metadata": {},
     "source": [
      "[Intro to Shapes](http://nbviewer.ipython.org/github/hugadams/pyparty/blob/master/examples/Notebooks/shapes.ipynb?create=1)"
     ]
    },
    {
     "cell_type": "code",
     "collapsed": false,
     "input": [
      "%%capture CAPTURED\n",
      "ts = TIMENOW()\n",
      "NB = 'shapes.ipynb'\n",
      "run_nb(NB)\n",
      "tdiff = TIMENOW() - ts\n",
      "'COMPLETED %s: %.2f s' % (NB, tdiff)"
     ],
     "language": "python",
     "metadata": {},
     "outputs": [
      {
       "metadata": {},
       "output_type": "pyout",
       "prompt_number": 33,
       "text": [
        "u'Finished shapes.ipynb:  8.82 us'"
       ]
      },
      {
       "output_type": "stream",
       "stream": "stderr",
       "text": [
        "ERROR: File `u'NBCONFIG.ipynb.py'` not found.\n"
       ]
      }
     ],
     "prompt_number": 33
    },
    {
     "cell_type": "heading",
     "level": 3,
     "metadata": {},
     "source": [
      "[Intro to MultiCanvas](http://nbviewer.ipython.org/github/hugadams/pyparty/blob/master/examples/Notebooks/multi_tutorial.ipynb?create=1)"
     ]
    },
    {
     "cell_type": "code",
     "collapsed": false,
     "input": [
      "%%capture CAPTURED\n",
      "ts = TIMENOW()\n",
      "NB = 'multi_tutorial.ipynb'\n",
      "run_nb(NB)\n",
      "tdiff = TIMENOW() - ts\n",
      "'COMPLETED %s: %.2f' % (NB, tdiff)"
     ],
     "language": "python",
     "metadata": {},
     "outputs": [
      {
       "ename": "MultiError",
       "evalue": "Names must be positional arguments or mapper, but not both.",
       "output_type": "pyerr",
       "traceback": [
        "\u001b[1;31m---------------------------------------------------------------------------\u001b[0m\n\u001b[1;31mMultiError\u001b[0m                                Traceback (most recent call last)",
        "\u001b[1;32m<ipython-input-20-281ae2381711>\u001b[0m in \u001b[0;36m<module>\u001b[1;34m()\u001b[0m\n\u001b[1;32m----> 1\u001b[1;33m \u001b[0mmc_colored\u001b[0m \u001b[1;33m=\u001b[0m \u001b[0mMultiCanvas\u001b[0m\u001b[1;33m.\u001b[0m\u001b[0mfrom_labeled\u001b[0m\u001b[1;33m(\u001b[0m\u001b[0mc\u001b[0m\u001b[1;33m.\u001b[0m\u001b[0mimage\u001b[0m\u001b[1;33m,\u001b[0m \u001b[1;34m'p-blue'\u001b[0m\u001b[1;33m,\u001b[0m \u001b[1;34m'p-red'\u001b[0m\u001b[1;33m,\u001b[0m \u001b[0mignore\u001b[0m\u001b[1;33m=\u001b[0m\u001b[1;34m'white'\u001b[0m\u001b[1;33m)\u001b[0m\u001b[1;33m\u001b[0m\u001b[0m\n\u001b[0m\u001b[0;32m      2\u001b[0m \u001b[0mmc_colored\u001b[0m\u001b[1;33m\u001b[0m\u001b[0m\n",
        "\u001b[1;32m/home/glue/Desktop/pyparty/pyparty/multi.pyc\u001b[0m in \u001b[0;36mfrom_labeled\u001b[1;34m(cls, img, *names, **pmankwargs)\u001b[0m\n\u001b[0;32m    803\u001b[0m \u001b[1;31m#        if mapper:\u001b[0m\u001b[1;33m\u001b[0m\u001b[1;33m\u001b[0m\u001b[0m\n\u001b[0;32m    804\u001b[0m         \u001b[1;32mif\u001b[0m \u001b[0mnames\u001b[0m\u001b[1;33m:\u001b[0m\u001b[1;33m\u001b[0m\u001b[0m\n\u001b[1;32m--> 805\u001b[1;33m             raise MultiError(\"Names must be positional arguments or\"\n\u001b[0m\u001b[0;32m    806\u001b[0m             \" mapper, but not both.\")\n\u001b[0;32m    807\u001b[0m \u001b[1;33m\u001b[0m\u001b[0m\n",
        "\u001b[1;31mMultiError\u001b[0m: Names must be positional arguments or mapper, but not both."
       ]
      },
      {
       "ename": "NameError",
       "evalue": "name 'mc_colored' is not defined",
       "output_type": "pyerr",
       "traceback": [
        "\u001b[1;31m---------------------------------------------------------------------------\u001b[0m\n\u001b[1;31mNameError\u001b[0m                                 Traceback (most recent call last)",
        "\u001b[1;32m<ipython-input-20-84a94dfad9bf>\u001b[0m in \u001b[0;36m<module>\u001b[1;34m()\u001b[0m\n\u001b[0;32m      1\u001b[0m \u001b[0max1\u001b[0m\u001b[1;33m,\u001b[0m \u001b[0max2\u001b[0m \u001b[1;33m=\u001b[0m \u001b[0msplot\u001b[0m\u001b[1;33m(\u001b[0m\u001b[1;36m1\u001b[0m\u001b[1;33m,\u001b[0m\u001b[1;36m2\u001b[0m\u001b[1;33m)\u001b[0m\u001b[1;33m\u001b[0m\u001b[0m\n\u001b[0;32m      2\u001b[0m \u001b[0mkwargs\u001b[0m\u001b[1;33m=\u001b[0m\u001b[1;33m{\u001b[0m\u001b[1;34m'attr'\u001b[0m\u001b[1;33m:\u001b[0m\u001b[1;34m'area'\u001b[0m\u001b[1;33m,\u001b[0m \u001b[1;34m'colors'\u001b[0m\u001b[1;33m:\u001b[0m\u001b[1;33m[\u001b[0m\u001b[1;34m'blue'\u001b[0m\u001b[1;33m,\u001b[0m \u001b[1;34m'red'\u001b[0m\u001b[1;33m]\u001b[0m\u001b[1;33m}\u001b[0m\u001b[1;33m\u001b[0m\u001b[0m\n\u001b[1;32m----> 3\u001b[1;33m \u001b[0mmc_colored\u001b[0m\u001b[1;33m.\u001b[0m\u001b[0mpie\u001b[0m\u001b[1;33m(\u001b[0m\u001b[0max1\u001b[0m\u001b[1;33m,\u001b[0m \u001b[1;33m**\u001b[0m\u001b[0mkwargs\u001b[0m\u001b[1;33m)\u001b[0m\u001b[1;33m\u001b[0m\u001b[0m\n\u001b[0m\u001b[0;32m      4\u001b[0m \u001b[0mmc_colored\u001b[0m\u001b[1;33m.\u001b[0m\u001b[0mhist\u001b[0m\u001b[1;33m(\u001b[0m\u001b[0max2\u001b[0m\u001b[1;33m,\u001b[0m \u001b[0mbins\u001b[0m\u001b[1;33m=\u001b[0m\u001b[1;36m5\u001b[0m\u001b[1;33m,\u001b[0m \u001b[0mxlim\u001b[0m\u001b[1;33m=\u001b[0m\u001b[1;34m'auto'\u001b[0m\u001b[1;33m,\u001b[0m \u001b[1;33m**\u001b[0m\u001b[0mkwargs\u001b[0m\u001b[1;33m)\u001b[0m\u001b[1;33m;\u001b[0m\u001b[1;33m\u001b[0m\u001b[0m\n",
        "\u001b[1;31mNameError\u001b[0m: name 'mc_colored' is not defined"
       ]
      },
      {
       "output_type": "stream",
       "stream": "stderr",
       "text": [
        "ERROR: File `u'NBCONFIG.ipynb.py'` not found.\n",
        "05-12 18:41:48 WARNING  pyparty.multi:  length : 1 names provided but 2 unique labels were found\n"
       ]
      },
      {
       "output_type": "stream",
       "stream": "stderr",
       "text": [
        "05-12 18:41:48 WARNING  pyparty.multi:  length : 3 names provided but 2 unique labels were found\n"
       ]
      }
     ],
     "prompt_number": 20
    },
    {
     "cell_type": "heading",
     "level": 3,
     "metadata": {},
     "source": [
      "[Intro to Grids](http://nbviewer.ipython.org/github/hugadams/pyparty/blob/master/examples/Notebooks/grids.ipynb?create=1)"
     ]
    },
    {
     "cell_type": "code",
     "collapsed": false,
     "input": [
      "%%capture CAPTURED\n",
      "%time\n",
      "NB = 'grids.ipynb'\n",
      "run_nb(NB)\n",
      "'COMPLETED %s: %s' % (NB, CAPTURED.stdout.split('\\n')[1].split(':')[1])"
     ],
     "language": "python",
     "metadata": {},
     "outputs": [
      {
       "output_type": "stream",
       "stream": "stderr",
       "text": [
        "ERROR: File `u'NBCONFIG.ipynb.py'` not found.\n",
        "05-12 17:56:52 WARNING  pyparty.utils:  background color has been converted (1-channel to 3-channel RGB)\n"
       ]
      },
      {
       "output_type": "stream",
       "stream": "stderr",
       "text": [
        "05-12 17:57:07 WARNING  pyparty.utils:   color has been converted (1-channel to 3-channel RGB)\n"
       ]
      },
      {
       "output_type": "stream",
       "stream": "stderr",
       "text": [
        "05-12 17:57:08 WARNING  pyparty.utils:   color has been converted (1-channel to 3-channel RGB)\n"
       ]
      },
      {
       "output_type": "stream",
       "stream": "stderr",
       "text": [
        "05-12 17:57:10 WARNING  pyparty.tools.grids:  3-channel image convert to 8-bit uint\n"
       ]
      },
      {
       "output_type": "stream",
       "stream": "stderr",
       "text": [
        "05-12 17:57:10 WARNING  pyparty.tools.grids:  3-channel image convert to 8-bit uint\n"
       ]
      },
      {
       "output_type": "stream",
       "stream": "stderr",
       "text": [
        "05-12 17:57:13 WARNING  pyparty.utils:  background color has been converted (1-channel to 3-channel RGB)\n"
       ]
      },
      {
       "ename": "KeyError",
       "evalue": "210",
       "output_type": "pyerr",
       "traceback": [
        "\u001b[1;31m---------------------------------------------------------------------------\u001b[0m\n\u001b[1;31mKeyError\u001b[0m                                  Traceback (most recent call last)",
        "\u001b[1;32m<ipython-input-3-720fe64695d4>\u001b[0m in \u001b[0;36m<module>\u001b[1;34m()\u001b[0m\n\u001b[0;32m      1\u001b[0m \u001b[0mtflat\u001b[0m \u001b[1;33m=\u001b[0m \u001b[0mc\u001b[0m\u001b[1;33m.\u001b[0m\u001b[0mgrid\u001b[0m\u001b[1;33m.\u001b[0m\u001b[0mas_tiles\u001b[0m\u001b[1;33m(\u001b[0m\u001b[0mkey\u001b[0m\u001b[1;33m=\u001b[0m\u001b[1;34m'flat'\u001b[0m\u001b[1;33m)\u001b[0m \u001b[1;31m# or key=True\u001b[0m\u001b[1;33m\u001b[0m\u001b[0m\n\u001b[1;32m----> 2\u001b[1;33m \u001b[0mt2d\u001b[0m \u001b[1;33m=\u001b[0m \u001b[0mc\u001b[0m\u001b[1;33m.\u001b[0m\u001b[0mgrid\u001b[0m\u001b[1;33m.\u001b[0m\u001b[0mas_tiles\u001b[0m\u001b[1;33m(\u001b[0m\u001b[0mkey\u001b[0m\u001b[1;33m=\u001b[0m\u001b[1;34m'2d'\u001b[0m\u001b[1;33m)\u001b[0m\u001b[1;33m\u001b[0m\u001b[0m\n\u001b[0m\u001b[0;32m      3\u001b[0m \u001b[1;33m\u001b[0m\u001b[0m\n\u001b[0;32m      4\u001b[0m \u001b[1;32mfor\u001b[0m \u001b[0mi\u001b[0m \u001b[1;32min\u001b[0m \u001b[0mrange\u001b[0m\u001b[1;33m(\u001b[0m\u001b[1;36m5\u001b[0m\u001b[1;33m)\u001b[0m\u001b[1;33m:\u001b[0m\u001b[1;33m\u001b[0m\u001b[0m\n\u001b[0;32m      5\u001b[0m     \u001b[1;32mprint\u001b[0m \u001b[0mtflat\u001b[0m\u001b[1;33m.\u001b[0m\u001b[0mkeys\u001b[0m\u001b[1;33m(\u001b[0m\u001b[1;33m)\u001b[0m\u001b[1;33m[\u001b[0m\u001b[0mi\u001b[0m\u001b[1;33m]\u001b[0m\u001b[1;33m,\u001b[0m \u001b[0mt2d\u001b[0m\u001b[1;33m.\u001b[0m\u001b[0mkeys\u001b[0m\u001b[1;33m(\u001b[0m\u001b[1;33m)\u001b[0m\u001b[1;33m[\u001b[0m\u001b[0mi\u001b[0m\u001b[1;33m]\u001b[0m\u001b[1;33m\u001b[0m\u001b[0m\n",
        "\u001b[1;32m/home/glue/Desktop/pyparty/pyparty/tools/grids.pyc\u001b[0m in \u001b[0;36mas_tiles\u001b[1;34m(self, key, sort)\u001b[0m\n\u001b[0;32m    489\u001b[0m             \u001b[1;32mfor\u001b[0m \u001b[0mj\u001b[0m \u001b[1;32min\u001b[0m \u001b[0mrange\u001b[0m\u001b[1;33m(\u001b[0m\u001b[0mself\u001b[0m\u001b[1;33m.\u001b[0m\u001b[0mydiv\u001b[0m\u001b[1;33m)\u001b[0m\u001b[1;33m:\u001b[0m\u001b[1;33m\u001b[0m\u001b[0m\n\u001b[0;32m    490\u001b[0m \u001b[1;33m\u001b[0m\u001b[0m\n\u001b[1;32m--> 491\u001b[1;33m                 \u001b[0mtiles2d\u001b[0m\u001b[1;33m[\u001b[0m\u001b[1;33m(\u001b[0m\u001b[0mi\u001b[0m\u001b[1;33m,\u001b[0m\u001b[0mj\u001b[0m\u001b[1;33m)\u001b[0m\u001b[1;33m]\u001b[0m \u001b[1;33m=\u001b[0m \u001b[0mtiledict\u001b[0m\u001b[1;33m.\u001b[0m\u001b[0mpop\u001b[0m\u001b[1;33m(\u001b[0m\u001b[0midx\u001b[0m\u001b[1;33m)\u001b[0m\u001b[1;33m\u001b[0m\u001b[0m\n\u001b[0m\u001b[0;32m    492\u001b[0m                 \u001b[0midx\u001b[0m \u001b[1;33m+=\u001b[0m \u001b[1;36m1\u001b[0m\u001b[1;33m\u001b[0m\u001b[0m\n\u001b[0;32m    493\u001b[0m \u001b[1;33m\u001b[0m\u001b[0m\n",
        "\u001b[1;32m/usr/local/Canopy1.1/appdata/canopy-1.3.0.1715.rh5-x86_64/lib/python2.7/collections.pyc\u001b[0m in \u001b[0;36mpop\u001b[1;34m(self, key, default)\u001b[0m\n\u001b[0;32m    141\u001b[0m             \u001b[1;32mreturn\u001b[0m \u001b[0mresult\u001b[0m\u001b[1;33m\u001b[0m\u001b[0m\n\u001b[0;32m    142\u001b[0m         \u001b[1;32mif\u001b[0m \u001b[0mdefault\u001b[0m \u001b[1;32mis\u001b[0m \u001b[0mself\u001b[0m\u001b[1;33m.\u001b[0m\u001b[0m__marker\u001b[0m\u001b[1;33m:\u001b[0m\u001b[1;33m\u001b[0m\u001b[0m\n\u001b[1;32m--> 143\u001b[1;33m             \u001b[1;32mraise\u001b[0m \u001b[0mKeyError\u001b[0m\u001b[1;33m(\u001b[0m\u001b[0mkey\u001b[0m\u001b[1;33m)\u001b[0m\u001b[1;33m\u001b[0m\u001b[0m\n\u001b[0m\u001b[0;32m    144\u001b[0m         \u001b[1;32mreturn\u001b[0m \u001b[0mdefault\u001b[0m\u001b[1;33m\u001b[0m\u001b[0m\n\u001b[0;32m    145\u001b[0m \u001b[1;33m\u001b[0m\u001b[0m\n",
        "\u001b[1;31mKeyError\u001b[0m: 210"
       ]
      },
      {
       "ename": "NameError",
       "evalue": "name 't2d' is not defined",
       "output_type": "pyerr",
       "traceback": [
        "\u001b[1;31m---------------------------------------------------------------------------\u001b[0m\n\u001b[1;31mNameError\u001b[0m                                 Traceback (most recent call last)",
        "\u001b[1;32m<ipython-input-3-b653a3766020>\u001b[0m in \u001b[0;36m<module>\u001b[1;34m()\u001b[0m\n\u001b[0;32m      1\u001b[0m \u001b[0mtile5\u001b[0m \u001b[1;33m=\u001b[0m \u001b[0mtflat\u001b[0m\u001b[1;33m[\u001b[0m\u001b[1;36m5\u001b[0m\u001b[1;33m]\u001b[0m\u001b[1;33m\u001b[0m\u001b[0m\n\u001b[1;32m----> 2\u001b[1;33m \u001b[0mtile16\u001b[0m \u001b[1;33m=\u001b[0m \u001b[0mt2d\u001b[0m\u001b[1;33m[\u001b[0m\u001b[1;33m(\u001b[0m\u001b[1;36m3\u001b[0m\u001b[1;33m,\u001b[0m\u001b[1;36m3\u001b[0m\u001b[1;33m)\u001b[0m\u001b[1;33m]\u001b[0m \u001b[1;31m#index starts at 0\u001b[0m\u001b[1;33m\u001b[0m\u001b[0m\n\u001b[0m\u001b[0;32m      3\u001b[0m \u001b[1;33m\u001b[0m\u001b[0m\n\u001b[0;32m      4\u001b[0m \u001b[0mimg\u001b[0m\u001b[1;33m[\u001b[0m\u001b[0mtile5\u001b[0m\u001b[1;33m]\u001b[0m \u001b[1;33m=\u001b[0m \u001b[1;33m(\u001b[0m\u001b[1;36m1\u001b[0m\u001b[1;33m,\u001b[0m\u001b[1;36m0\u001b[0m\u001b[1;33m,\u001b[0m\u001b[1;36m0\u001b[0m\u001b[1;33m)\u001b[0m \u001b[1;31m#red\u001b[0m\u001b[1;33m\u001b[0m\u001b[0m\n\u001b[0;32m      5\u001b[0m \u001b[0mimg\u001b[0m\u001b[1;33m[\u001b[0m\u001b[0mtile16\u001b[0m\u001b[1;33m]\u001b[0m \u001b[1;33m=\u001b[0m \u001b[1;33m(\u001b[0m\u001b[1;36m1\u001b[0m\u001b[1;33m,\u001b[0m\u001b[1;36m1\u001b[0m\u001b[1;33m,\u001b[0m\u001b[1;36m0\u001b[0m\u001b[1;33m)\u001b[0m \u001b[1;31m#yellow\u001b[0m\u001b[1;33m\u001b[0m\u001b[0m\n",
        "\u001b[1;31mNameError\u001b[0m: name 't2d' is not defined"
       ]
      },
      {
       "ename": "NameError",
       "evalue": "name 'CAPTURED' is not defined",
       "output_type": "pyerr",
       "traceback": [
        "\u001b[1;31m---------------------------------------------------------------------------\u001b[0m\n\u001b[1;31mNameError\u001b[0m                                 Traceback (most recent call last)",
        "\u001b[1;32m<ipython-input-3-551018e29945>\u001b[0m in \u001b[0;36m<module>\u001b[1;34m()\u001b[0m\n\u001b[0;32m      1\u001b[0m \u001b[0mrun_nb\u001b[0m\u001b[1;33m(\u001b[0m\u001b[1;34m'grids.ipynb'\u001b[0m\u001b[1;33m)\u001b[0m\u001b[1;33m\u001b[0m\u001b[0m\n\u001b[1;32m----> 2\u001b[1;33m \u001b[1;34m'Finished grids notebook: %s'\u001b[0m \u001b[1;33m%\u001b[0m \u001b[0mCAPTURED\u001b[0m\u001b[1;33m.\u001b[0m\u001b[0mstdout\u001b[0m\u001b[1;33m\u001b[0m\u001b[0m\n\u001b[0m",
        "\u001b[1;31mNameError\u001b[0m: name 'CAPTURED' is not defined"
       ]
      }
     ],
     "prompt_number": 3
    },
    {
     "cell_type": "heading",
     "level": 3,
     "metadata": {},
     "source": [
      "[Intro to Labeling](http://nbviewer.ipython.org/github/hugadams/pyparty/blob/master/examples/Notebooks/Analyze_Particles.ipynb?create=1)"
     ]
    },
    {
     "cell_type": "code",
     "collapsed": false,
     "input": [
      "%%capture CAPTURED\n",
      "ts = TIMENOW()\n",
      "NB = 'Analyze_Particles.ipynb'\n",
      "run_nb(NB)\n",
      "tdiff = TIMENOW() - ts\n",
      "'COMPLETED %s: %.2fs' % (NB, tdiff)"
     ],
     "language": "python",
     "metadata": {},
     "outputs": [
      {
       "output_type": "stream",
       "stream": "stderr",
       "text": [
        "ERROR: File `u'NBCONFIG.ipynb.py'` not found.\n",
        "05-12 19:49:35 WARNING  pyparty.tools.manager:  pmin < 10 may result in errors in some particle descriptors\n"
       ]
      },
      {
       "output_type": "stream",
       "stream": "stderr",
       "text": [
        "05-12 19:49:37 WARNING  pyparty.tools.manager:  pmin < 10 may result in errors in some particle descriptors\n"
       ]
      },
      {
       "output_type": "stream",
       "stream": "stderr",
       "text": [
        "05-12 19:49:44 WARNING  pyparty.tools.manager:  pmin < 10 may result in errors in some particle descriptors\n"
       ]
      },
      {
       "output_type": "stream",
       "stream": "stderr",
       "text": [
        "05-12 19:50:07 WARNING  pyparty.tools.manager:  pmin < 10 may result in errors in some particle descriptors\n"
       ]
      },
      {
       "output_type": "stream",
       "stream": "stderr",
       "text": [
        "05-12 19:50:23 WARNING  pyparty.tools.manager:  pmin < 10 may result in errors in some particle descriptors\n"
       ]
      }
     ]
    },
    {
     "cell_type": "heading",
     "level": 3,
     "metadata": {},
     "source": [
      "[Groups of Labels](http://nbviewer.ipython.org/github/hugadams/pyparty/blob/master/examples/Notebooks/groups_of_labels.ipynb?create=1)"
     ]
    },
    {
     "cell_type": "code",
     "collapsed": false,
     "input": [
      "%%capture CAPTURED\n",
      "ts = TIMENOW()\n",
      "NB = 'groups_of_labels.ipynb'\n",
      "run_nb(NB)\n",
      "tdiff = TIMENOW() - ts\n",
      "'COMPLETED %s: %.2fs' % (NB, tdiff)"
     ],
     "language": "python",
     "metadata": {},
     "outputs": [
      {
       "ename": "MultiError",
       "evalue": "Names must be positional arguments or mapper, but not both.",
       "output_type": "pyerr",
       "traceback": [
        "\u001b[1;31m---------------------------------------------------------------------------\u001b[0m\n\u001b[1;31mMultiError\u001b[0m                                Traceback (most recent call last)",
        "\u001b[1;32m<ipython-input-16-9fc028f051b5>\u001b[0m in \u001b[0;36m<module>\u001b[1;34m()\u001b[0m\n\u001b[0;32m      1\u001b[0m \u001b[1;32mfrom\u001b[0m \u001b[0mpyparty\u001b[0m \u001b[1;32mimport\u001b[0m \u001b[0mMultiCanvas\u001b[0m\u001b[1;33m\u001b[0m\u001b[0m\n\u001b[0;32m      2\u001b[0m \u001b[1;33m\u001b[0m\u001b[0m\n\u001b[1;32m----> 3\u001b[1;33m \u001b[0mmc\u001b[0m \u001b[1;33m=\u001b[0m \u001b[0mMultiCanvas\u001b[0m\u001b[1;33m.\u001b[0m\u001b[0mfrom_labeled\u001b[0m\u001b[1;33m(\u001b[0m\u001b[0mNANOLABELS\u001b[0m\u001b[1;33m,\u001b[0m \u001b[1;33m*\u001b[0m\u001b[0mNAMES\u001b[0m\u001b[1;33m)\u001b[0m\u001b[1;33m\u001b[0m\u001b[0m\n\u001b[0m\u001b[0;32m      4\u001b[0m \u001b[0mmc\u001b[0m\u001b[1;33m\u001b[0m\u001b[0m\n",
        "\u001b[1;32m/home/glue/Desktop/pyparty/pyparty/multi.pyc\u001b[0m in \u001b[0;36mfrom_labeled\u001b[1;34m(cls, img, *names, **pmankwargs)\u001b[0m\n\u001b[0;32m    803\u001b[0m \u001b[1;31m#        if mapper:\u001b[0m\u001b[1;33m\u001b[0m\u001b[1;33m\u001b[0m\u001b[0m\n\u001b[0;32m    804\u001b[0m         \u001b[1;32mif\u001b[0m \u001b[0mnames\u001b[0m\u001b[1;33m:\u001b[0m\u001b[1;33m\u001b[0m\u001b[0m\n\u001b[1;32m--> 805\u001b[1;33m             raise MultiError(\"Names must be positional arguments or\"\n\u001b[0m\u001b[0;32m    806\u001b[0m             \" mapper, but not both.\")\n\u001b[0;32m    807\u001b[0m \u001b[1;33m\u001b[0m\u001b[0m\n",
        "\u001b[1;31mMultiError\u001b[0m: Names must be positional arguments or mapper, but not both."
       ]
      },
      {
       "ename": "ValueError",
       "evalue": "'clusters' is not in list",
       "output_type": "pyerr",
       "traceback": [
        "\u001b[1;31m---------------------------------------------------------------------------\u001b[0m\n\u001b[1;31mValueError\u001b[0m                                Traceback (most recent call last)",
        "\u001b[1;32m<ipython-input-16-db7169c5d91e>\u001b[0m in \u001b[0;36m<module>\u001b[1;34m()\u001b[0m\n\u001b[1;32m----> 1\u001b[1;33m \u001b[1;32mdel\u001b[0m \u001b[0mmc\u001b[0m\u001b[1;33m[\u001b[0m\u001b[1;34m'clusters'\u001b[0m\u001b[1;33m]\u001b[0m\u001b[1;33m\u001b[0m\u001b[0m\n\u001b[0m\u001b[0;32m      2\u001b[0m \u001b[0mmc\u001b[0m\u001b[1;33m.\u001b[0m\u001b[0mnames\u001b[0m\u001b[1;33m\u001b[0m\u001b[0m\n",
        "\u001b[1;32m/home/glue/Desktop/pyparty/pyparty/multi.pyc\u001b[0m in \u001b[0;36m__delitem__\u001b[1;34m(self, keyslice)\u001b[0m\n\u001b[0;32m    671\u001b[0m \u001b[1;33m\u001b[0m\u001b[0m\n\u001b[0;32m    672\u001b[0m         \u001b[1;32mif\u001b[0m \u001b[0misinstance\u001b[0m\u001b[1;33m(\u001b[0m\u001b[0mkeyslice\u001b[0m\u001b[1;33m,\u001b[0m \u001b[0mstr\u001b[0m\u001b[1;33m)\u001b[0m\u001b[1;33m:\u001b[0m\u001b[1;33m\u001b[0m\u001b[0m\n\u001b[1;32m--> 673\u001b[1;33m             \u001b[0midx\u001b[0m \u001b[1;33m=\u001b[0m \u001b[0mself\u001b[0m\u001b[1;33m.\u001b[0m\u001b[0mnames\u001b[0m\u001b[1;33m.\u001b[0m\u001b[0mindex\u001b[0m\u001b[1;33m(\u001b[0m\u001b[0mkeyslice\u001b[0m\u001b[1;33m)\u001b[0m\u001b[1;33m\u001b[0m\u001b[0m\n\u001b[0m\u001b[0;32m    674\u001b[0m             \u001b[0mself\u001b[0m\u001b[1;33m.\u001b[0m\u001b[0mpop\u001b[0m\u001b[1;33m(\u001b[0m\u001b[0midx\u001b[0m\u001b[1;33m)\u001b[0m\u001b[1;33m\u001b[0m\u001b[0m\n\u001b[0;32m    675\u001b[0m         \u001b[1;32melse\u001b[0m\u001b[1;33m:\u001b[0m\u001b[1;33m\u001b[0m\u001b[0m\n",
        "\u001b[1;31mValueError\u001b[0m: 'clusters' is not in list"
       ]
      },
      {
       "output_type": "stream",
       "stream": "stderr",
       "text": [
        "ERROR: File `u'NBCONFIG.ipynb.py'` not found.\n",
        "05-12 19:49:03 WARNING  pyparty.utils:  background color has been converted (1-channel to 3-channel RGB)\n"
       ]
      },
      {
       "metadata": {},
       "output_type": "pyout",
       "prompt_number": 16,
       "text": [
        "'COMPLETED groups_of_labels.ipynb: 24.70'"
       ]
      }
     ],
     "prompt_number": 16
    },
    {
     "cell_type": "heading",
     "level": 3,
     "metadata": {},
     "source": [
      "[Basic Artificial SEM images and Noise](http://nbviewer.ipython.org/github/hugadams/pyparty/blob/master/examples/Notebooks/making_noise.ipynb?create=1)"
     ]
    },
    {
     "cell_type": "code",
     "collapsed": false,
     "input": [
      "%%capture CAPTURED\n",
      "ts = TIMENOW()\n",
      "NB = 'making_noise.ipynb'\n",
      "run_nb(NB)\n",
      "tdiff = TIMENOW() - ts\n",
      "'COMPLETED %s: %.2f ' % (NB, tdiff)"
     ],
     "language": "python",
     "metadata": {},
     "outputs": []
    },
    {
     "cell_type": "heading",
     "level": 3,
     "metadata": {},
     "source": [
      "[More Examples for JORS](http://nbviewer.ipython.org/github/hugadams/pyparty/blob/master/examples/Notebooks/JORS_data.ipynb?create=1)"
     ]
    },
    {
     "cell_type": "code",
     "collapsed": false,
     "input": [
      "%%capture CAPTURED\n",
      "ts = TIMENOW()\n",
      "NB = 'JORS_data.ipynb'\n",
      "run_nb(NB)\n",
      "tdiff = TIMENOW() - ts\n",
      "'COMPLETED %s: %.2f s' % (NB, tdiff)"
     ],
     "language": "python",
     "metadata": {},
     "outputs": [
      {
       "ename": "MultiError",
       "evalue": "Names must be positional arguments or mapper, but not both.",
       "output_type": "pyerr",
       "traceback": [
        "\u001b[1;31m---------------------------------------------------------------------------\u001b[0m\n\u001b[1;31mMultiError\u001b[0m                                Traceback (most recent call last)",
        "\u001b[1;32m<ipython-input-15-287f9ccebed0>\u001b[0m in \u001b[0;36m<module>\u001b[1;34m()\u001b[0m\n\u001b[0;32m      6\u001b[0m \u001b[0mshowim\u001b[0m\u001b[1;33m(\u001b[0m\u001b[0mNANOLABELS\u001b[0m\u001b[1;33m,\u001b[0m \u001b[1;34m'spectral'\u001b[0m\u001b[1;33m,\u001b[0m \u001b[0mtitle\u001b[0m\u001b[1;33m=\u001b[0m\u001b[1;34m'Labeled Nanoparticles'\u001b[0m\u001b[1;33m)\u001b[0m\u001b[1;33m\u001b[0m\u001b[0m\n\u001b[0;32m      7\u001b[0m \u001b[1;33m\u001b[0m\u001b[0m\n\u001b[1;32m----> 8\u001b[1;33m \u001b[0mmc\u001b[0m \u001b[1;33m=\u001b[0m \u001b[0mMultiCanvas\u001b[0m\u001b[1;33m.\u001b[0m\u001b[0mfrom_labeled\u001b[0m\u001b[1;33m(\u001b[0m\u001b[0mnanolabels\u001b[0m\u001b[1;33m(\u001b[0m\u001b[1;33m)\u001b[0m\u001b[1;33m,\u001b[0m \u001b[1;33m*\u001b[0m\u001b[0mNAMES\u001b[0m\u001b[1;33m)\u001b[0m\u001b[1;33m\u001b[0m\u001b[0m\n\u001b[0m\u001b[0;32m      9\u001b[0m \u001b[0mmc\u001b[0m\u001b[1;33m.\u001b[0m\u001b[0mset_colors\u001b[0m\u001b[1;33m(\u001b[0m\u001b[1;34m'r'\u001b[0m\u001b[1;33m,\u001b[0m \u001b[1;34m'g'\u001b[0m\u001b[1;33m,\u001b[0m \u001b[1;34m'y'\u001b[0m\u001b[1;33m,\u001b[0m \u001b[1;34m'magenta'\u001b[0m\u001b[1;33m)\u001b[0m\u001b[1;33m\u001b[0m\u001b[0m\n\u001b[0;32m     10\u001b[0m \u001b[0mmc\u001b[0m\u001b[1;33m.\u001b[0m\u001b[0mshow\u001b[0m\u001b[1;33m(\u001b[0m\u001b[0mnames\u001b[0m \u001b[1;33m=\u001b[0m \u001b[0mTrue\u001b[0m\u001b[1;33m,\u001b[0m \u001b[0mncols\u001b[0m\u001b[1;33m=\u001b[0m\u001b[1;36m2\u001b[0m\u001b[1;33m,\u001b[0m \u001b[0mfigsize\u001b[0m\u001b[1;33m=\u001b[0m\u001b[1;33m(\u001b[0m\u001b[1;36m7\u001b[0m\u001b[1;33m,\u001b[0m\u001b[1;36m5\u001b[0m\u001b[1;33m)\u001b[0m\u001b[1;33m)\u001b[0m\u001b[1;33m\u001b[0m\u001b[0m\n",
        "\u001b[1;32m/home/glue/Desktop/pyparty/pyparty/multi.pyc\u001b[0m in \u001b[0;36mfrom_labeled\u001b[1;34m(cls, img, *names, **pmankwargs)\u001b[0m\n\u001b[0;32m    803\u001b[0m \u001b[1;31m#        if mapper:\u001b[0m\u001b[1;33m\u001b[0m\u001b[1;33m\u001b[0m\u001b[0m\n\u001b[0;32m    804\u001b[0m         \u001b[1;32mif\u001b[0m \u001b[0mnames\u001b[0m\u001b[1;33m:\u001b[0m\u001b[1;33m\u001b[0m\u001b[0m\n\u001b[1;32m--> 805\u001b[1;33m             raise MultiError(\"Names must be positional arguments or\"\n\u001b[0m\u001b[0;32m    806\u001b[0m             \" mapper, but not both.\")\n\u001b[0;32m    807\u001b[0m \u001b[1;33m\u001b[0m\u001b[0m\n",
        "\u001b[1;31mMultiError\u001b[0m: Names must be positional arguments or mapper, but not both."
       ]
      },
      {
       "metadata": {},
       "output_type": "pyout",
       "prompt_number": 15,
       "text": [
        "'COMPLETED JORS_data.ipynb: 14.4256548882'"
       ]
      },
      {
       "output_type": "stream",
       "stream": "stderr",
       "text": [
        "ERROR: File `u'NBCONFIG.ipynb.py'` not found.\n"
       ]
      }
     ],
     "prompt_number": 15
    }
   ],
   "metadata": {}
  }
 ]
}