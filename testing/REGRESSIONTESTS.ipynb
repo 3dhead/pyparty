{
 "metadata": {
  "name": "",
  "signature": "sha256:fa90b257a27d71c3385cb76eff32180639663a243725891299cbe59852e4dea2"
 },
 "nbformat": 3,
 "nbformat_minor": 0,
 "worksheets": [
  {
   "cells": [
    {
     "cell_type": "code",
     "collapsed": false,
     "input": [
      "class redirect_output(object):\n",
      "    \"\"\"context manager for reditrecting stdout/err to files\"\"\"\n",
      "\n",
      "\n",
      "    def __init__(self, stdout='', stderr=''):\n",
      "        self.stdout = stdout\n",
      "        self.stderr = stderr\n",
      "\n",
      "    def __enter__(self):\n",
      "        self.sys_stdout = sys.stdout\n",
      "        self.sys_stderr = sys.stderr\n",
      "\n",
      "        if self.stdout:\n",
      "            sys.stdout = open(self.stdout, 'w')\n",
      "        if self.stderr:\n",
      "            if self.stderr == self.stdout:\n",
      "                sys.stderr = sys.stdout\n",
      "            else:\n",
      "                sys.stderr = open(self.stderr, 'w')\n",
      "\n",
      "    def __exit__(self, exc_type, exc_value, traceback):\n",
      "        sys.stdout = self.sys_stdout\n",
      "        sys.stderr = self.sys_stderr"
     ],
     "language": "python",
     "metadata": {},
     "outputs": [],
     "prompt_number": 6
    },
    {
     "cell_type": "code",
     "collapsed": false,
     "input": [
      "import os.path as op\n",
      "from IPython.utils import io\n",
      "\n",
      "\n",
      "PATH_TO_NB = '../examples/Notebooks/'\n",
      "\n",
      "def run_nb(nb):\n",
      "#    with redirect_output('/home/glue/Desktop/foo.txt'):\n",
      "    with io.capture_output() as captured:\n",
      "        nbpath = op.join(PATH_TO_NB, nb)\n",
      "        %run $nbpath    \n",
      "\n",
      "run_nb('NBCONFIG.ipynb')"
     ],
     "language": "python",
     "metadata": {},
     "outputs": [],
     "prompt_number": 9
    },
    {
     "cell_type": "code",
     "collapsed": false,
     "input": [
      "run_nb('Analyze_Particles.ipynb')"
     ],
     "language": "python",
     "metadata": {},
     "outputs": [
      {
       "metadata": {},
       "output_type": "pyout",
       "prompt_number": 10,
       "text": [
        "(('simple:', ['bezier', 'circle', 'ellipse', 'line']),\n",
        " ('n-circle:', ['dimer', 'tetramer', 'trimer']),\n",
        " ('polygon:', ['polygon', 'rectangle', 'square', 'triangle']))"
       ]
      },
      {
       "metadata": {},
       "output_type": "pyout",
       "prompt_number": 10,
       "text": [
        "<matplotlib.axes.AxesSubplot at 0xcfd7290>"
       ]
      },
      {
       "metadata": {},
       "output_type": "pyout",
       "prompt_number": 10,
       "text": [
        "<matplotlib.axes.AxesSubplot at 0x165d6c50>"
       ]
      },
      {
       "metadata": {},
       "output_type": "pyout",
       "prompt_number": 10,
       "text": [
        "array([[0, 0, 0, ..., 0, 0, 0],\n",
        "       [0, 0, 0, ..., 0, 0, 0],\n",
        "       [0, 0, 0, ..., 0, 0, 0],\n",
        "       ..., \n",
        "       [0, 0, 0, ..., 0, 0, 0],\n",
        "       [0, 0, 0, ..., 0, 0, 0],\n",
        "       [0, 0, 0, ..., 0, 0, 0]])"
       ]
      },
      {
       "output_type": "stream",
       "stream": "stderr",
       "text": [
        "ERROR: File `u'NBCONFIG.ipynb.py'` not found.\n",
        "04-15 19:12:50 WARNING  pyparty.tools.manager:  pmin < 10 may result in errors in some particle descriptors\n"
       ]
      },
      {
       "metadata": {},
       "output_type": "pyout",
       "prompt_number": 10,
       "text": [
        "    NAME      PTYPE      CENTER       PHI\n",
        "0   label_1   nd_label   (91, 118)    0.0\n",
        "1   label_2   nd_label   (100, 400)   0.0\n",
        "2   label_3   nd_label   (108, 81)    0.0\n",
        "3   label_4   nd_label   (256, 256)   0.0\n",
        "4   label_5   nd_label   (300, 200)   0.0"
       ]
      },
      {
       "output_type": "stream",
       "stream": "stderr",
       "text": [
        "04-15 19:12:51 WARNING  pyparty.tools.manager:  pmin < 10 may result in errors in some particle descriptors\n"
       ]
      },
      {
       "metadata": {},
       "output_type": "pyout",
       "prompt_number": 10,
       "text": [
        "    NAME          PTYPE      CENTER       PHI\n",
        "0   FOOPREFIX_1   nd_label   (91, 118)    0.0\n",
        "1   FOOPREFIX_2   nd_label   (100, 400)   0.0\n",
        "2   FOOPREFIX_3   nd_label   (108, 81)    0.0\n",
        "3   FOOPREFIX_4   nd_label   (256, 256)   0.0\n",
        "4   FOOPREFIX_5   nd_label   (300, 200)   0.0"
       ]
      },
      {
       "metadata": {},
       "output_type": "pyout",
       "prompt_number": 10,
       "text": [
        "(6, 7, 'Dimer labeled as 2 particles')"
       ]
      },
      {
       "metadata": {},
       "output_type": "pyout",
       "prompt_number": 10,
       "text": [
        "array([ 0.99553441,  0.8725733 ,  0.82286498,  0.04213593,  0.        ,\n",
        "        0.        ,  0.        ])"
       ]
      },
      {
       "metadata": {},
       "output_type": "pyout",
       "prompt_number": 10,
       "text": [
        "<matplotlib.axes.AxesSubplot at 0x1232cdd0>"
       ]
      },
      {
       "output_type": "stream",
       "stream": "stderr",
       "text": [
        "04-15 19:12:57 WARNING  pyparty.tools.manager:  pmin < 10 may result in errors in some particle descriptors\n"
       ]
      }
     ]
    }
   ],
   "metadata": {}
  }
 ]
}